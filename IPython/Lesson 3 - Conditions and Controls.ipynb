{
 "cells": [
  {
   "cell_type": "markdown",
   "metadata": {},
   "source": [
    "# Lesson 2: Conditions and Loops"
   ]
  },
  {
   "cell_type": "markdown",
   "metadata": {},
   "source": [
    "### 1. Conditions - Compare with \"if\", \"elif\" and \"else\"\n",
    "\n",
    "1. Evaluate expressions which produce TRUE or FALSE as outcome\n",
    "2. Based on the outcome of the expression a specific block of code is executed\n",
    "3. The expressions could be: equality (==) , inequality (!=), less/greater than (<)(>), less/greater than or equal  \n",
    "   (<=) (>=), membership (in, not in)\n",
    "4. Expressions can be combined using \"and\" and \"or\" and \"and not\"\n",
    "<img src=\"ifcondition.jpg\">"
   ]
  },
  {
   "cell_type": "markdown",
   "metadata": {},
   "source": [
    "Let us write a small code that mimics a dice by generating a random number between 1 and 6. It then asks you to enter a number between 1 and 6. If what you enter equals the dice value you win or else you loose."
   ]
  },
  {
   "cell_type": "code",
   "execution_count": 27,
   "metadata": {
    "collapsed": false
   },
   "outputs": [
    {
     "name": "stdout",
     "output_type": "stream",
     "text": [
      "Input a number between 1 and 6: 5\n",
      "Congratulations ! The value entered is the dice value\n"
     ]
    }
   ],
   "source": [
    "from random import randint #From the random library we import the randint function. We will learn more about libraries and fucntions in lesson 3\n",
    "\n",
    "def dice(user_input):\n",
    "    \"\"\" This function mimics a dice. It generates a random number between 1 and 6 and sees if the value given by \n",
    "        the user equals to the dice value\"\"\"\n",
    "    \n",
    "    dice_value = randint(1,6) #Generate a randome number between 1 and 6\n",
    "\n",
    "    if user_input == dice_value: # Note the syntax \":\" and indention is compulsory. The conditions could also be ==, !\n",
    "        print('Congratulations ! The value entered is the dice value')\n",
    "    else:\n",
    "        print('Sorry, the dice showed: ', dice_value)\n",
    "    \n",
    "user_input = int(input('Input a number between 1 and 6: ')) # Input by default assumes that the value you enter is a string so we need to conver it\n",
    "dice(user_input) #we pass the user_input as an argument to the function. "
   ]
  },
  {
   "cell_type": "markdown",
   "metadata": {},
   "source": [
    "### 2. Loops - Repeat with \"while\" and Iterate with \"for\" "
   ]
  },
  {
   "cell_type": "markdown",
   "metadata": {},
   "source": [
    "#### While loop\n",
    "1. A loop statement allows us to execute a statement or group of statements multiple times\n",
    "2. While loop is the simplest loop which executes a block of code until and expression is True\n",
    "3. A 'break' command can be used to exit any loop prematurely\n",
    "4. A 'continue' command can be used to skip ahead to the next iterations without exiting the loop\n",
    "<img src=\"whileloop.png\">"
   ]
  },
  {
   "cell_type": "markdown",
   "metadata": {},
   "source": [
    "Now lets improve the previous function \"dice()\" such that the user has 5 attempts at entering the number and getting the right dice value. "
   ]
  },
  {
   "cell_type": "code",
   "execution_count": 29,
   "metadata": {
    "collapsed": false
   },
   "outputs": [
    {
     "name": "stdout",
     "output_type": "stream",
     "text": [
      "Input a number between 1 and 6: 1\n",
      "Sorry, the dice showed:  2\n",
      "Input a number between 1 and 6: 1\n",
      "Sorry, the dice showed:  6\n",
      "Input a number between 1 and 6: 1\n",
      "Congratulations ! The value entered is the dice value\n",
      "Input a number between 1 and 6: 1\n",
      "Sorry, the dice showed:  4\n",
      "Input a number between 1 and 6: 1\n",
      "Sorry, the dice showed:  2\n"
     ]
    }
   ],
   "source": [
    "from random import randint #From the random library we import the randint function. We will learn more about libraries and fucntions in lesson 3\n",
    "\n",
    "def dice(user_input):\n",
    "    \"\"\" This function mimics a dice. It generates a random number between 1 and 6 and sees if the value given by \n",
    "        the user equals to the dice value\"\"\"\n",
    "    \n",
    "    dice_value = randint(1,6) #Generate a randome number between 1 and 6\n",
    "\n",
    "    if user_input == dice_value: # Note the syntax \":\" and indention is compulsory. The conditions could also be ==, !\n",
    "        print('Congratulations ! The value entered is the dice value')\n",
    "    else:\n",
    "        print('Sorry, the dice showed: ', dice_value)\n",
    "\n",
    "iterate = 0\n",
    "while iterate < 5:\n",
    "    user_input = int(input('Input a number between 1 and 6: ')) # Input by default assumes that the value you enter is a string so we need to conver it\n",
    "    dice(user_input) \n",
    "    iterate = iterate  + 1"
   ]
  },
  {
   "cell_type": "markdown",
   "metadata": {},
   "source": [
    "Excercise : Can you edit the the previous code so that it stops asking the user to enter a number when the value entered matches the dice value ? Hint: You will need to use the \"break\" command within the while loop. Also remember that you can use the \"return\" command to pass values back to the calling function."
   ]
  },
  {
   "cell_type": "code",
   "execution_count": 31,
   "metadata": {
    "collapsed": false
   },
   "outputs": [
    {
     "name": "stdout",
     "output_type": "stream",
     "text": [
      "Input a number between 1 and 6: 1\n",
      "Sorry, the dice showed:  6\n",
      "Input a number between 1 and 6: 1\n",
      "Sorry, the dice showed:  5\n",
      "Input a number between 1 and 6: 1\n",
      "Congratulations ! The value entered is the dice value\n"
     ]
    }
   ],
   "source": [
    "from random import randint #From the random library we import the randint function. We will learn more about libraries and fucntions in lesson 3\n",
    "\n",
    "def dice(user_input):\n",
    "    \"\"\" This function mimics a dice. It generates a random number between 1 and 6 and sees if the value given by \n",
    "        the user equals to the dice value\"\"\"\n",
    "    \n",
    "    dice_value = randint(1,6) #Generate a randome number between 1 and 6\n",
    "\n",
    "    if user_input == dice_value: # Note the syntax \":\" and indention is compulsory. The conditions could also be ==, !\n",
    "        print('Congratulations ! The value entered is the dice value')\n",
    "        return 1\n",
    "    else:\n",
    "        print('Sorry, the dice showed: ', dice_value)\n",
    "        return 0\n",
    "\n",
    "iterate = 0\n",
    "while iterate < 5:\n",
    "    user_input = int(input('Input a number between 1 and 6: ')) # Input by default assumes that the value you enter is a string so we need to conver it\n",
    "    returned_value = dice(user_input) \n",
    "    if returned_value == 1:\n",
    "        break\n",
    "    iterate = iterate  + 1"
   ]
  },
  {
   "cell_type": "markdown",
   "metadata": {},
   "source": [
    "#### For loop\n",
    "1. For loops are used to iterate over data\n",
    "2. It makes it possible for you to traverse data structures without knowing how large they are\n",
    "3. You can even iterate over datastreams in real time"
   ]
  },
  {
   "cell_type": "markdown",
   "metadata": {},
   "source": [
    "Let us write a program that asks the user to enter a text sentence and counts the number of times a particular character occurs in the sentence."
   ]
  },
  {
   "cell_type": "code",
   "execution_count": 34,
   "metadata": {
    "collapsed": false
   },
   "outputs": [
    {
     "name": "stdout",
     "output_type": "stream",
     "text": [
      "Input your sentence: My name is poonacha\n",
      "Input the character that needs to be counted: o\n",
      "Number of times the character ' o ' occurs is:  2\n"
     ]
    }
   ],
   "source": [
    "def count(sentence, char):\n",
    "    count = 0\n",
    "    for x_char in sentence:\n",
    "        if x_char == char:\n",
    "            count += 1\n",
    "    print(\"Number of times the character '\",char, \"' occurs is: \", count) # Careful with the quotes ! \n",
    "    \n",
    "sentence = input('Input your sentence: ').lower() #the lower() comand converts the sentence to lower case\n",
    "char = input('Input the character that needs to be counted: ').lower()\n",
    "count(sentence, char)\n"
   ]
  }
 ],
 "metadata": {
  "anaconda-cloud": {},
  "kernelspec": {
   "display_name": "Python [default]",
   "language": "python",
   "name": "python3"
  },
  "language_info": {
   "codemirror_mode": {
    "name": "ipython",
    "version": 3
   },
   "file_extension": ".py",
   "mimetype": "text/x-python",
   "name": "python",
   "nbconvert_exporter": "python",
   "pygments_lexer": "ipython3",
   "version": "3.5.2"
  }
 },
 "nbformat": 4,
 "nbformat_minor": 1
}
