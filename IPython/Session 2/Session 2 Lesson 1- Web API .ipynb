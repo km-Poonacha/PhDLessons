{
 "cells": [
  {
   "cell_type": "markdown",
   "metadata": {},
   "source": [
    "# Session 2 Lesson 1 - Web API "
   ]
  },
  {
   "cell_type": "markdown",
   "metadata": {},
   "source": [
    "## 1. Write a CSV \n",
    "\n",
    "Lets continue where we left off. We will write a small code to write into a csv file."
   ]
  },
  {
   "cell_type": "markdown",
   "metadata": {},
   "source": [
    "*Write a code to append data row wise to a csv file*"
   ]
  },
  {
   "cell_type": "code",
   "execution_count": 12,
   "metadata": {
    "collapsed": true
   },
   "outputs": [],
   "source": [
    "import csv\n",
    "WRITE_CSV = \"/Users/medapa/Dropbox/HEC/Teaching/Python Course for PhDs/Scripts/python4phd/write_csv.csv\"\n",
    "with open(WRITE_CSV, 'at',encoding = 'utf-8') as csv_obj:\n",
    "    write = csv.writer(csv_obj) # Note it is csv.writer not reader\n",
    "    \n",
    "    write.writerow(['Poonacha','32','OM'])\n",
    "    write.writerow(['XXX','29','DS'])\n",
    "    write.writerow(['XXX','18','S'])"
   ]
  },
  {
   "cell_type": "markdown",
   "metadata": {},
   "source": [
    "*What do you think will happen if we use 'wt' as mode instead of 'at' ?*"
   ]
  },
  {
   "cell_type": "markdown",
   "metadata": {},
   "source": [
    "*Can you write a program to read the word_sentiment.csv file and copy paste all the words that have a positive sentiment (row[1] > 0) in a new excel sheet ?*"
   ]
  },
  {
   "cell_type": "code",
   "execution_count": 15,
   "metadata": {
    "collapsed": false
   },
   "outputs": [],
   "source": [
    "import csv\n",
    "SENTIMENT_CSV = \"/Users/medapa/Dropbox/HEC/Teaching/Python Course for PhDs/Scripts/python4phd/word_sentiment.csv\"\n",
    "GOOD_SENTIMENT_CSV = \"/Users/medapa/Dropbox/HEC/Teaching/Python Course for PhDs/Scripts/python4phd/good_sentiment_csv.csv\"\n",
    "\n",
    "\"\"\"You should be very careful while indenting the code when you use with. It automatically \n",
    "closes the file when you move out of the indent \"\"\"\n",
    "\n",
    "with open(GOOD_SENTIMENT_CSV, 'at',encoding = 'utf-8') as csv_obj:\n",
    "    write = csv.writer(csv_obj) # Note it is csv.writer not reader\n",
    "\n",
    "    with open(SENTIMENT_CSV, 'rt',encoding = 'utf-8') as senti_data:\n",
    "        sentiment = csv.reader(senti_data)\n",
    "\n",
    "        for row in sentiment:\n",
    "            if int(row[1]) >0:\n",
    "                write.writerow([row[0],row[1]])\n",
    "        "
   ]
  },
  {
   "cell_type": "markdown",
   "metadata": {},
   "source": [
    "## 2. Connecting to the web"
   ]
  },
  {
   "cell_type": "markdown",
   "metadata": {},
   "source": [
    "Let us use the requests module. This module provides functions to send a HTTP request and get the response from the server. Documentation on the same can be found here - http://docs.python-requests.org/en/master/user/quickstart/#make-a-request\n",
    "\n",
    "Requests is a third party module. If not installed, we will need to do \"$pip install requests\" in the mac terminal or in the command pronpt of windows."
   ]
  },
  {
   "cell_type": "code",
   "execution_count": 24,
   "metadata": {
    "collapsed": false
   },
   "outputs": [
    {
     "name": "stdout",
     "output_type": "stream",
     "text": [
      "404\n",
      "Failed to get a response from the url. Error code:  404\n"
     ]
    }
   ],
   "source": [
    "import requests \n",
    "url = 'https://www.yelp.com/xxx'\n",
    "resp = requests.get(url)\n",
    "print(resp.status_code)\n",
    "\n",
    "if resp.status_code == 200:\n",
    "    print('Success')\n",
    "else:\n",
    "    print('Failed to get a response from the url. Error code: ',resp.status_code )"
   ]
  },
  {
   "cell_type": "code",
   "execution_count": 1,
   "metadata": {
    "collapsed": false
   },
   "outputs": [],
   "source": [
    "import requests \n",
    "url = 'https://www.yelp.com/search?find_desc=jouy+en+josas&start=0&sortby=rating&cflt=restaurants&l=g:2.32935905457,48.8534209294,2.35493659973,48.8703607224'\n",
    "resp = requests.get(url)\n",
    "#print(resp.text)"
   ]
  },
  {
   "cell_type": "markdown",
   "metadata": {},
   "source": [
    "## 3. Using a Web API to Collect Data\n",
    "An application programming interface is a set of functions that you call to get access to some service.An API is basically a list of instructions for interfacting with websites's data. The way these work is similar to viewing a web page. When you point your browser to a website, you do it with a URL (http://www.yelp.com for instance). Yelp sends you back data containing HTML, CSS, and Javascript. Your browser uses this data to construct the page that you see. The API works similarly, you request data with a URL (http://api.yelp.com/stuff), but instead of getting HTML and such, you get data formatted as JSON."
   ]
  },
  {
   "cell_type": "markdown",
   "metadata": {},
   "source": [
    "All the details regarding the data format and the different API's are available on the yelp website : https://www.yelp.com/developers/documentation/v2/search_api"
   ]
  },
  {
   "cell_type": "markdown",
   "metadata": {},
   "source": [
    "*Lets see how the data given by the api looks like. In the following code we use the api to search for restaurants 500 mtrs around jouy en josas. We get 10 results. The data is packaged in JSON format and is given as below*"
   ]
  },
  {
   "cell_type": "code",
   "execution_count": 2,
   "metadata": {
    "collapsed": false
   },
   "outputs": [],
   "source": [
    "import requests\n",
    "import json # This library helps us format data into JSON and helps read JSON data\n",
    "url = 'https://api.yelp.com/v2/search/?oauth_nonce=11906484&radius_filter=1000&location=jouy+en+josas&oauth_timestamp=1485912240&oauth_consumer_key=IsR5jptq8d5x_KLho9FHnw&oauth_signature_method=HMAC-SHA1&oauth_signature=GFzn4MHT3Xf0BlgzIFZqHRQDicg%3D&category_filter=restaurants&oauth_body_hash=2jmj7l5rSw0yVb%2FvlWAYkK%2FYBwk%3D&limit=40&oauth_token=0aR02eWkvx_e7ORc0Lm7pSLFnr9mrBBK&cc=FR'\n",
    "response = requests.get(url)\n",
    "jason_data = json.loads(response.text)\n",
    "#print(jason_data)"
   ]
  },
  {
   "cell_type": "markdown",
   "metadata": {},
   "source": [
    "Lets use a better representation to see what data they have actually given us: https://www.yelp.com/developers/api_console"
   ]
  },
  {
   "cell_type": "markdown",
   "metadata": {},
   "source": [
    "### Step 1: Authentication"
   ]
  },
  {
   "cell_type": "markdown",
   "metadata": {},
   "source": [
    "OAuth 2 is an authorization framework that enables a user to connect to their account using a third party application. It works by delegating user authentication to the service that hosts the user account, and authorizing third-party applications to access the user account. While this is more secure thant the basic authentication (i.e. passing the userid and password while you make a http request), it is a little more difficult to code.\n",
    "\n",
    "It needs a token and a consumer key to be generated and passed to the webserver. Unfortunately different websites have different ways of generating and using the token and consumer keys. Hence we will need to write the authorization code for each website seperately. HOwever, every website provides detailed information on how you can generate and send the token and keys. \n",
    "\n",
    "You can get your OAuth2 token and consumer keys at :\n",
    "https://www.yelp.fr/developers/v2/manage_api_keys\n",
    "\n",
    "The authentication code is packaged into a small function."
   ]
  },
  {
   "cell_type": "code",
   "execution_count": 33,
   "metadata": {
    "collapsed": true
   },
   "outputs": [],
   "source": [
    "def search_yelp(url):\n",
    "        ''' USE OAuth to authenticate the application. Make a request with Yelp's \n",
    "    API and return the result in JSON format'''"
   ]
  },
  {
   "cell_type": "markdown",
   "metadata": {},
   "source": [
    "### Step 2 - Create the URL\n",
    "\n",
    "In this step we build the search URL that we need to use. The yelp API has been restricted to return only 40 search results. So we will need to change the location parameters in the URL so that we get less than 40 results during each search.\n",
    "\n",
    "To understand the format of the URL we can check the examples given here: https://www.yelp.com/developers/documentation/v2/search_api\n",
    "In yelp, we can specify the search based on latitude and longitude so it is possible to restrict the search to a small area and then iterate by changing the latitude and longitude values."
   ]
  },
  {
   "cell_type": "markdown",
   "metadata": {},
   "source": [
    "*Let us now create the search URL to find all the restaurants located in jouy en josas with 1000 mtrs radius*"
   ]
  },
  {
   "cell_type": "code",
   "execution_count": 35,
   "metadata": {
    "collapsed": true
   },
   "outputs": [],
   "source": [
    "search_url = 'https://api.yelp.com/v2/search/?location=jouy en josas&limit=40&radius_filter=1000&cc=FR&category_filter=restaurants'"
   ]
  },
  {
   "cell_type": "markdown",
   "metadata": {},
   "source": [
    "### Step 3 - We now get the JSON data and collect the relevant fields"
   ]
  },
  {
   "cell_type": "markdown",
   "metadata": {},
   "source": [
    "*Let us now write the function main() that creates the search URL and sends it to the search_yelp() function. The search_yelp() function returns the search results in JSON format. We will use the for loops to traverse through the restaurants and find the relevant information*"
   ]
  },
  {
   "cell_type": "code",
   "execution_count": 6,
   "metadata": {
    "collapsed": false
   },
   "outputs": [
    {
     "name": "stdout",
     "output_type": "stream",
     "text": [
      "200\n",
      "The number of search results are:  15\n",
      "1 .  Jardin Napolitain   jardin-napolitain-jouy-en-josas   4.0   2\n",
      "2 .  La Medina   la-medina-jouy-en-josas   3.5   2\n",
      "3 .  American Diner   american-diner-jouy-en-josas   1.0   1\n",
      "4 .  Pipelote   pipelote-jouy-en-josas   4.0   1\n",
      "5 .  Le Magnolia   le-magnolia-jouy-en-josas   4.0   1\n",
      "6 .  Robin Des Bois   robin-des-bois-jouy-en-josas   3.5   5\n",
      "7 .  Le Napolitain   le-napolitain-saclay   3.5   3\n",
      "8 .  Le Bonnard   le-bonnard-jouy-en-josas   3.5   2\n",
      "9 .  Au Fil des Plats   au-fil-des-plats-jouy-en-josas   4.0   1\n",
      "10 .  Pitel Karl   pitel-karl-jouy-en-josas   0.0   0\n",
      "11 .  La Grappe D'Or   la-grappe-d-or-jouy-en-josas-2   0.0   0\n",
      "12 .  chai-moî   chai-moî-jouy-en-josas   0.0   0\n",
      "13 .  Vidal Marie-Joseph   vidal-marie-joseph-jouy-en-josas-2   0.0   0\n",
      "14 .  Le Berry   le-berry-jouy-en-josas   0.0   0\n",
      "15 .  Venise   venise-jouy-en-josas   3.5   3\n"
     ]
    }
   ],
   "source": [
    "TOKEN = 'XXX'\n",
    "TOKEN_SECRET = 'XXX'\n",
    "CONSUMER_KEY = 'XXX'\n",
    "CONSUMER_SECRET = 'XXX'\n",
    "\n",
    "import json\n",
    "import requests\n",
    "import oauth2\n",
    "\n",
    "# This function performs a Yelp API request, taken from Yelp's python example\n",
    "def search_yelp(url):\n",
    "    ''' USE OAuth to authenticate the application. Make a request with Yelp's \n",
    "    API and return the result in JSON format'''\n",
    "    consumer = oauth2.Consumer(CONSUMER_KEY, CONSUMER_SECRET)\n",
    "    token = oauth2.Token(TOKEN, TOKEN_SECRET)\n",
    "\n",
    "    oauth_request = oauth2.Request(method=\"GET\", url=url)\n",
    "    oauth_request.update({'oauth_nonce': oauth2.generate_nonce(),\n",
    "                          'oauth_timestamp': oauth2.generate_timestamp(),\n",
    "                          'oauth_token': TOKEN,\n",
    "                          'oauth_consumer_key': CONSUMER_KEY})\n",
    "\n",
    "    oauth_request.sign_request(oauth2.SignatureMethod_HMAC_SHA1(), \n",
    "                               consumer, token)\n",
    "    signed_url = oauth_request.to_url()\n",
    "#    print(signed_url)\n",
    "    try:\n",
    "        response = requests.get(signed_url) \n",
    "        print(response.status_code)\n",
    "        if response.status_code == 200:\n",
    "            return json.loads(response.text)\n",
    "        else: \n",
    "            print('HTTP status code not ok: ',response.status_code)\n",
    "            return 0\n",
    "    \n",
    "    except:\n",
    "        print('Error running the search, see if everything within the \"try\" statement is working')\n",
    "        return 0\n",
    "    \n",
    "# OUR CODE STARTS HERE \n",
    "def main():\n",
    "    ''' This function collects sends the URL to the search API and collects the JSON data back from \n",
    "    it. From the JSON data we pick the relevant fields tah twe want to displayed'''\n",
    "    \n",
    "    search_url = 'https://api.yelp.com/v2/search/?location=jouy en josas&limit=40&radius_filter=1000&cc=FR&category_filter=restaurants'\n",
    "\n",
    "    search_results = search_yelp(search_url)\n",
    "    if search_results == 0 : return\n",
    "\n",
    "    print('The number of search results are: ', search_results['total'])\n",
    "    i = 1\n",
    "    \n",
    "    '''The search comes ip with 15 results to iterate through each of these restaurants, \n",
    "    we use the for loop'''\n",
    "    \n",
    "    for biz in  search_results['businesses']:\n",
    "        print(i,'. ',biz['name'],' ',biz['id'],' ',biz['rating'],' ',biz['review_count'])\n",
    "        i=i+1\n",
    "\n",
    "main()"
   ]
  },
  {
   "cell_type": "markdown",
   "metadata": {},
   "source": [
    "*Let us now try and save these results in a CSV sheet*"
   ]
  },
  {
   "cell_type": "code",
   "execution_count": null,
   "metadata": {
    "collapsed": true
   },
   "outputs": [],
   "source": [
    "# Code Here \n",
    "\n",
    "\n",
    "\n"
   ]
  }
 ],
 "metadata": {
  "anaconda-cloud": {},
  "kernelspec": {
   "display_name": "Python [default]",
   "language": "python",
   "name": "python3"
  },
  "language_info": {
   "codemirror_mode": {
    "name": "ipython",
    "version": 3
   },
   "file_extension": ".py",
   "mimetype": "text/x-python",
   "name": "python",
   "nbconvert_exporter": "python",
   "pygments_lexer": "ipython3",
   "version": "3.5.2"
  }
 },
 "nbformat": 4,
 "nbformat_minor": 1
}
