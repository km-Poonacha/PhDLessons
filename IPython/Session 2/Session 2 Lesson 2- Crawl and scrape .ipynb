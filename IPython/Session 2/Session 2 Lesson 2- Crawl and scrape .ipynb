{
 "cells": [
  {
   "cell_type": "markdown",
   "metadata": {},
   "source": [
    "# Session 2 Lesson 2- Crawl and scrape "
   ]
  },
  {
   "cell_type": "markdown",
   "metadata": {},
   "source": [
    "\n",
    "Sometimes, you may want a little bit of information - a movie rating, stock price, or product availability - but the information is available only in HTML pages, surrounded by ads and extraneous content.\n",
    "\n",
    "To do this we build an automated web fetcher called a crawler or spider. After teh HTML contents have been retrived from the remote web servers, a scraper parses it to find the needle in the haystack.\n"
   ]
  },
  {
   "cell_type": "markdown",
   "metadata": {},
   "source": [
    "### BeautifulSoup Module"
   ]
  },
  {
   "cell_type": "markdown",
   "metadata": {},
   "source": [
    "First, the document is converted to Unicode, and HTML entities are converted to Unicode characters. Beautiful Soup then parses (analyses) the document using the best available parser. It will use an HTML parser unless you specifically tell it to use an XML parser. \n",
    "\n",
    "Beautiful Soup transforms a complex HTML document into a complex tree of Python objects. But you’ll only ever have to deal with about four kinds of objects: Tag, NavigableString, BeautifulSoup, and Comment.\n",
    "\n",
    "* A ***Tag*** object corresponds to an XML or HTML tag in the original document\n",
    "* The ***BeautifulSoup*** object itself represents the document as a whole\n",
    "* The ***NavigableString*** class to contains the bit of text within a tag\n",
    "\n",
    "https://www.crummy.com/software/BeautifulSoup/bs4/doc/"
   ]
  },
  {
   "cell_type": "code",
   "execution_count": null,
   "metadata": {
    "collapsed": true
   },
   "outputs": [],
   "source": [
    "<h1 id=\"HEADING\" property=\"name\" class=\"heading_name   \">\n",
    "    <div class=\"heading_height\"></div>\n",
    "     \"\n",
    "     Le Jardin Napolitain\n",
    "     \"\n",
    "</h1>"
   ]
  },
  {
   "cell_type": "markdown",
   "metadata": {},
   "source": [
    "### Step 1 : Making the soup\n",
    "\n",
    "First we need to use the BeautifulSoup module to parse the HTML data into Python readable Unicode Text format."
   ]
  },
  {
   "cell_type": "markdown",
   "metadata": {},
   "source": [
    "*Let us write the code to parse a html page. We will use the trip advisor URL for Le Jardin Napolitain - https://www.tripadvisor.fr/Restaurant_Review-g227613-d3531819-Reviews-Le_Jardin_Napolitain-Jouy_en_Josas_Versailles_Yvelines_Ile_de_France.html *"
   ]
  },
  {
   "cell_type": "code",
   "execution_count": 3,
   "metadata": {
    "collapsed": false
   },
   "outputs": [
    {
     "name": "stdout",
     "output_type": "stream",
     "text": [
      "200\n"
     ]
    }
   ],
   "source": [
    "from bs4 import BeautifulSoup\n",
    "scrape_url = 'https://www.tripadvisor.fr/Restaurant_Review-g227613-d3531819-Reviews-Le_Jardin_Napolitain-Jouy_en_Josas_Versailles_Yvelines_Ile_de_France.html'  \n",
    "response = requests.get(scrape_url) \n",
    "print(response.status_code)\n",
    "\n",
    "if response.status_code == 200:\n",
    "    soup = BeautifulSoup(response.text, 'html.parser') # Soup\n",
    "#    print(soup)"
   ]
  },
  {
   "cell_type": "markdown",
   "metadata": {},
   "source": [
    "### Step 2: Inspect the element you want to scrape \n",
    "\n",
    "In this step we will inspect the HTML data of the website to understand the tags and attributes that matches the element. "
   ]
  },
  {
   "cell_type": "markdown",
   "metadata": {},
   "source": [
    "*Let us inspect the HTML data of the URL and understand where (under which tag) the review data is located*."
   ]
  },
  {
   "cell_type": "code",
   "execution_count": null,
   "metadata": {
    "collapsed": true
   },
   "outputs": [],
   "source": [
    "<p class=\"partial_entry\">“En plus du renommé super gentil accueil, \n",
    "les pizzas sont toujours excellentes... On adore! Petit bémol sur la déco. \n",
    "A rafraichir peut-être? Mais vraiment pas un frein à la fréquentation de \n",
    "cet établissement!</p>\n"
   ]
  },
  {
   "cell_type": "markdown",
   "metadata": {},
   "source": [
    "### Step 3: Searching the soup for the data\n",
    "\n",
    "Beautiful Soup defines a lot of methods for searching the parse tree (soup), the two most popular methods are: find() and find_all(). \n",
    "\n",
    "The simplest filter is a tag. Pass a tag to a search method and Beautiful Soup will perform a match against that exact string. "
   ]
  },
  {
   "cell_type": "markdown",
   "metadata": {},
   "source": [
    "*Let us try and find all the < p > (paragraph) tags in the soup:*"
   ]
  },
  {
   "cell_type": "code",
   "execution_count": 44,
   "metadata": {
    "collapsed": false
   },
   "outputs": [
    {
     "name": "stdout",
     "output_type": "stream",
     "text": [
      "200\n",
      "Ce restaurant propose-t-il principalement des pizzas ?\n",
      "Ce restaurant convient-il pour un repas d'affaires ?\n",
      "Ce restaurant convient-il pour le déjeuner ?\n",
      "Ce restaurant convient-il pour le dîner ?\n",
      "Ce restaurant convient-il pour un brunch ?\n",
      "Ce restaurant propose-t-il des plats végétariens satisfaisants ?\n",
      "Ce restaurant propose-t-il des plats sans gluten satisfaisants ?\n",
      "Ce restaurant convient-il pour le petit déjeuner ?\n",
      "Ce restaurant propose-t-il des plats végétaliens satisfaisants ?\n",
      "Ce restaurant propose-t-il des plats à emporter ?\n",
      "Merci pour votre aide !\n",
      "\n",
      "Rapport qualité/prix très bon.\n",
      "Les pizzas sont très bonnes, bien garnies et copieuses.\n",
      "L'ambiance toujours très sympa.\n",
      "\n",
      "\n",
      "Un endroit fort sympathique, on y mange de délicieuses pizzas et pâtes, l'accueil est chaleureux et le cadre convivial.\n",
      "\n",
      "\n",
      "En plus du renommé super gentil accueil, les pizzas sont toujours excellentes... On adore! Petit bémol sur la déco. A rafraichir peut-être? Mais vraiment pas un frein à la fréquentation de cet établissement!\n",
      "\n",
      "\n",
      "Toujours ouvert en toutes occasions\n",
      "Carte agréable\n",
      "Bonnes pizza et autres plats italiens\n",
      "Personnel serviable\n",
      "À revenir sans modération\n",
      "\n",
      "\n",
      "Restaurant dans une ambiance sympathique\n",
      "La terrasse est agréable\n",
      "Les serveuses adorables\n",
      "Les pizzas aussi bonnes qu'en Italie !!! Elles sont bien garnies et juste parfaitement cuites !!!\n",
      "\n",
      "\n",
      "Un des rares endroits ouverts le soir à JOUY de plus le personnel est sympa et les pizzas plutôt bonnes.\n",
      "\n",
      "\n",
      "Toujours un accueil personnalisé par Mehdi le patron du lieu.\n",
      "Les pizzas sont impeccables : mention spéciale pour la pizza 'Viagra' qui ne manque pas de piquant.\n",
      "Les enfants adorent.\n",
      "Des plats simples mais de qualité.\n",
      "\n",
      "\n",
      "Les pizzas sont mangeable. Mais dommage pour les viandes et les sauces trop de plats à la carte pour avoir du frais les pâtes sont limite pasta box\n",
      "\n",
      "\n",
      "Les pizzas sont très bonnes et toujours bien garnies. Le service est agréable et le repas commence toujours par un kir offert. .\n",
      "Très bien à emporté aussi.\n",
      "\n",
      "\n",
      "Pizzeria à connaître. Accueil du patron toujours chaleureux. Les pizzas sont un peu salées à mon gout. Service rapide mais un peu impersonnel\n",
      "\n",
      "\n",
      "Vous possédez ou gérez cet établissement ? Prenez le contrôle de votre page pour répondre gratuitement aux avis, mettre à jour votre page et bien plus encore. \n",
      "Bonjour, le Jardin Napolitain de Jouy en Josas est il climatisé? merci Cdlt J.B.\n",
      "\n",
      "Voir toutes les questions\n",
      "(1) \n"
     ]
    }
   ],
   "source": [
    "from bs4 import BeautifulSoup\n",
    "scrape_url = 'https://www.tripadvisor.fr/Restaurant_Review-g227613-d3531819-Reviews-Le_Jardin_Napolitain-Jouy_en_Josas_Versailles_Yvelines_Ile_de_France.html'  \n",
    "response = requests.get(scrape_url) \n",
    "print(response.status_code)\n",
    "\n",
    "if response.status_code == 200:\n",
    "    soup = BeautifulSoup(response.text, 'html.parser')\n",
    "    for review in soup.find_all('p'):        \n",
    "        print(review.text) #We are interested only in the text data, since the reviews are stored as text"
   ]
  },
  {
   "cell_type": "markdown",
   "metadata": {},
   "source": [
    "#### Expanding this further\n",
    "\n",
    "To add additional details we can inspect the tags further and add the reviewer rating and reviwer details."
   ]
  },
  {
   "cell_type": "code",
   "execution_count": 68,
   "metadata": {
    "collapsed": false
   },
   "outputs": [
    {
     "name": "stdout",
     "output_type": "stream",
     "text": [
      "200\n",
      "Pizza très bonnes\n",
      "très sympa\n",
      "De bonnes pizzas\n",
      "Une constance\n",
      "Quelles sont bonnes les pizzas !!!\n",
      "Bon accueil, pizzas très correctes\n",
      "Toujours sympa !\n",
      "Quel domage\n",
      "Très bien\n",
      "A connaotre\n",
      "Bonjour, le Jardin Napolitain de Jouy en Josas est il climatisé? merci Cdlt J.B.\n",
      "\n",
      "Rapport qualité/prix très bon.\n",
      "Les pizzas sont très bonnes, bien garnies et copieuses.\n",
      "L'ambiance toujours très sympa.\n",
      "\n",
      "\n",
      "Un endroit fort sympathique, on y mange de délicieuses pizzas et pâtes, l'accueil est chaleureux et le cadre convivial.\n",
      "\n",
      "\n",
      "En plus du renommé super gentil accueil, les pizzas sont toujours excellentes... On adore! Petit bémol sur la déco. A rafraichir peut-être? Mais vraiment pas un frein à la fréquentation de cet établissement!\n",
      "\n",
      "\n",
      "Toujours ouvert en toutes occasions\n",
      "Carte agréable\n",
      "Bonnes pizza et autres plats italiens\n",
      "Personnel serviable\n",
      "À revenir sans modération\n",
      "\n",
      "\n",
      "Restaurant dans une ambiance sympathique\n",
      "La terrasse est agréable\n",
      "Les serveuses adorables\n",
      "Les pizzas aussi bonnes qu'en Italie !!! Elles sont bien garnies et juste parfaitement cuites !!!\n",
      "\n",
      "\n",
      "Un des rares endroits ouverts le soir à JOUY de plus le personnel est sympa et les pizzas plutôt bonnes.\n",
      "\n",
      "\n",
      "Toujours un accueil personnalisé par Mehdi le patron du lieu.\n",
      "Les pizzas sont impeccables : mention spéciale pour la pizza 'Viagra' qui ne manque pas de piquant.\n",
      "Les enfants adorent.\n",
      "Des plats simples mais de qualité.\n",
      "\n",
      "\n",
      "Les pizzas sont mangeable. Mais dommage pour les viandes et les sauces trop de plats à la carte pour avoir du frais les pâtes sont limite pasta box\n",
      "\n",
      "\n",
      "Les pizzas sont très bonnes et toujours bien garnies. Le service est agréable et le repas commence toujours par un kir offert. .\n",
      "Très bien à emporté aussi.\n",
      "\n",
      "\n",
      "Pizzeria à connaître. Accueil du patron toujours chaleureux. Les pizzas sont un peu salées à mon gout. Service rapide mais un peu impersonnel\n",
      "\n",
      "4 sur 5 bulles\n",
      "5 sur 5 bulles\n",
      "4 sur 5 bulles\n",
      "4 sur 5 bulles\n",
      "4 sur 5 bulles\n",
      "3 sur 5 bulles\n",
      "4 sur 5 bulles\n",
      "3 sur 5 bulles\n",
      "4 sur 5 bulles\n",
      "3 sur 5 bulles\n"
     ]
    }
   ],
   "source": [
    "from bs4 import BeautifulSoup\n",
    "scrape_url = 'https://www.tripadvisor.fr/Restaurant_Review-g227613-d3531819-Reviews-Le_Jardin_Napolitain-Jouy_en_Josas_Versailles_Yvelines_Ile_de_France.html'  \n",
    "response = requests.get(scrape_url) \n",
    "print(response.status_code)\n",
    "\n",
    "if response.status_code == 200:\n",
    "    soup = BeautifulSoup(response.text, 'html.parser')\n",
    "    \n",
    "    for rev_data in soup.find_all('span', class_= 'noQuotes'): \n",
    "        print(rev_data.text)\n",
    "        \n",
    "    for rev_data in soup.find_all('p', class_= 'partial_entry'): \n",
    "        print(rev_data.text)\n",
    "    \n",
    "    for rev_data in soup.find_all('div', class_='rating reviewItemInline'):\n",
    "        for img_data in rev_data.find_all('img'): \n",
    "            print(img_data.get('alt'))\n",
    "        "
   ]
  },
  {
   "cell_type": "markdown",
   "metadata": {},
   "source": [
    "### Iterate through pages\n",
    "*Let us try and iterate the code so that it picks review from the other pages of the search results*"
   ]
  },
  {
   "cell_type": "code",
   "execution_count": null,
   "metadata": {
    "collapsed": true
   },
   "outputs": [],
   "source": []
  }
 ],
 "metadata": {
  "anaconda-cloud": {},
  "kernelspec": {
   "display_name": "Python [default]",
   "language": "python",
   "name": "python3"
  },
  "language_info": {
   "codemirror_mode": {
    "name": "ipython",
    "version": 3
   },
   "file_extension": ".py",
   "mimetype": "text/x-python",
   "name": "python",
   "nbconvert_exporter": "python",
   "pygments_lexer": "ipython3",
   "version": "3.5.2"
  }
 },
 "nbformat": 4,
 "nbformat_minor": 1
}
