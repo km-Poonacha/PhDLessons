{
 "cells": [
  {
   "cell_type": "markdown",
   "metadata": {},
   "source": [
    "# Lesson 2: Conditions and Loops"
   ]
  },
  {
   "cell_type": "markdown",
   "metadata": {},
   "source": [
    "### 1. Conditions - Compare with \"if\", \"elif\" and \"else\"\n",
    "\n",
    "1. Evaluate expressions which produce TRUE or FALSE as outcome\n",
    "2. Based on the outcome of the expression a specific block of code is executed\n",
    "3. The expressions could be: equality (==) , inequality (!=), less/greater than (<)(>), less/greater than or equal  \n",
    "   (<=) (>=), membership (in, not in)\n",
    "4. Expressions can be combined using \"and\" and \"or\" and \"and not\"\n",
    "<img src=\"ifcondition.jpg\">"
   ]
  },
  {
   "cell_type": "markdown",
   "metadata": {},
   "source": [
    "Let us write a small code that mimics a dice by generating a random number between 1 and 6. It then asks you to enter a number between 1 and 6. If what you enter equals the dice value you win or else you loose."
   ]
  },
  {
   "cell_type": "code",
   "execution_count": 27,
   "metadata": {
    "collapsed": false
   },
   "outputs": [
    {
     "name": "stdout",
     "output_type": "stream",
     "text": [
      "Input a number between 1 and 6: 5\n",
      "Congratulations ! The value entered is the dice value\n"
     ]
    }
   ],
   "source": [
    "from random import randint #From the random library we import the randint function. We will learn more about libraries and fucntions in lesson 3\n",
    "\n",
    "def dice(user_input):\n",
    "    \"\"\" This function mimics a dice. It generates a random number between 1 and 6 and sees if the value given by \n",
    "        the user equals to the dice value\"\"\"\n",
    "    \n",
    "    dice_value = randint(1,6) #Generate a randome number between 1 and 6\n",
    "\n",
    "    if user_input == dice_value: # Note the syntax \":\" and indention is compulsory. The conditions could also be ==, !\n",
    "        print('Congratulations ! The value entered is the dice value')\n",
    "    else:\n",
    "        print('Sorry, the dice showed: ', dice_value)\n",
    "    \n",
    "user_input = int(input('Input a number between 1 and 6: ')) # Input by default assumes that the value you enter is a string so we need to conver it\n",
    "dice(user_input)"
   ]
  },
  {
   "cell_type": "markdown",
   "metadata": {},
   "source": [
    "### 2. Loops - Repeat with \"while\" and Iterate with \"for\" "
   ]
  },
  {
   "cell_type": "markdown",
   "metadata": {},
   "source": [
    "#### While loop\n",
    "1. A loop statement allows us to execute a statement or group of statements multiple times\n",
    "2. While loop is the simplest loop which executes a block of code until and expression is True\n",
    "3. A 'break' command can be used to exit any loop prematurely\n",
    "4. A 'continue' command can be used to skip ahead to the next iterations without exiting the loop\n",
    "<img src=\"whileloop.png\">"
   ]
  },
  {
   "cell_type": "markdown",
   "metadata": {},
   "source": [
    "Now lets improve the previous code such that if the user does not input \"poonacha\" in a sentence, we ask them to re- enter until they enter it.  "
   ]
  },
  {
   "cell_type": "code",
   "execution_count": 5,
   "metadata": {
    "collapsed": false
   },
   "outputs": [
    {
     "name": "stdout",
     "output_type": "stream",
     "text": [
      "Input your sentence: My name is p\n",
      "Make sure poonacha is there in the sentence: My name is poo\n",
      "Make sure poonacha is there in the sentence: My name is Poonacha\n",
      "The word poonacha was found\n"
     ]
    }
   ],
   "source": [
    "sentence = input('Input your sentence: ').lower() # We can use .lower() where ever there is a string.\n",
    "\n",
    "while 'poonacha' not in sentence:\n",
    "    sentence = input('Make sure poonacha is there in the sentence: ').lower()    \n",
    "else:    # We can use 'else' statement with 'while' loop the same way we use it with an if statement.\n",
    "    print('The word poonacha was found')"
   ]
  },
  {
   "cell_type": "markdown",
   "metadata": {},
   "source": [
    "We do not want the user to enter into an infinite loop if they do not understand that they need to enter poonacha in the sentence. So let us set the maximum number of times a user can input a sentence = 3. We use the 'break' command for this."
   ]
  },
  {
   "cell_type": "code",
   "execution_count": 7,
   "metadata": {
    "collapsed": false
   },
   "outputs": [
    {
     "name": "stdout",
     "output_type": "stream",
     "text": [
      "Input your sentence: My name is p\n",
      "Make sure poonacha is there in the sentence: My name is po\n",
      "Make sure poonacha is there in the sentence: My name is poo\n",
      "Make sure poonacha is there in the sentence: My name is poon\n",
      "I give up\n"
     ]
    }
   ],
   "source": [
    "sentence = input('Input your sentence: ').lower() # We can use .lower() where ever there is a string.\n",
    "iterate= 0 \n",
    "\n",
    "while 'poonacha' not in sentence:\n",
    "    if iterate == 3: # Checks if the number of times the user has input the sentence is 3\n",
    "        print('I give up')\n",
    "        break\n",
    "    sentence = input('Make sure poonacha is there in the sentence: ').lower() \n",
    "    iterate = iterate + 1\n",
    "else:    \n",
    "    print('The word poonacha was found')"
   ]
  },
  {
   "cell_type": "markdown",
   "metadata": {},
   "source": [
    "#### For loop\n",
    "1. For loops are used to iterate over data\n",
    "2. It makes it possible for you to traverse data structures without knowing how large they are\n",
    "3. You can even iterate over datastreams in real time"
   ]
  },
  {
   "cell_type": "code",
   "execution_count": 14,
   "metadata": {
    "collapsed": false
   },
   "outputs": [
    {
     "name": "stdout",
     "output_type": "stream",
     "text": [
      "Input your sentence: For loops iterate over the entire string one character at a time.\n",
      "Number of times the letter 'a' occurs is:  5\n"
     ]
    }
   ],
   "source": [
    "sentence = input('Input your sentence: ').lower()\n",
    "count = 0\n",
    "\n",
    "for char in sentence:\n",
    "    if char == 'a':\n",
    "        count += 1\n",
    "print(\"Number of times the letter 'a' occurs is: \", count) # We need to use double quotes here since there is single quotes  in the middle."
   ]
  },
  {
   "cell_type": "code",
   "execution_count": null,
   "metadata": {
    "collapsed": true
   },
   "outputs": [],
   "source": []
  }
 ],
 "metadata": {
  "anaconda-cloud": {},
  "kernelspec": {
   "display_name": "Python [default]",
   "language": "python",
   "name": "python3"
  },
  "language_info": {
   "codemirror_mode": {
    "name": "ipython",
    "version": 3
   },
   "file_extension": ".py",
   "mimetype": "text/x-python",
   "name": "python",
   "nbconvert_exporter": "python",
   "pygments_lexer": "ipython3",
   "version": "3.5.2"
  }
 },
 "nbformat": 4,
 "nbformat_minor": 1
}
