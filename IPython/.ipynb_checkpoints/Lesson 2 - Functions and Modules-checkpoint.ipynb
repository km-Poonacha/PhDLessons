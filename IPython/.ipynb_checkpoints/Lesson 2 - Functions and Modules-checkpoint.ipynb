{
 "cells": [
  {
   "cell_type": "markdown",
   "metadata": {},
   "source": [
    "# Lesson 2: Functions and Modules"
   ]
  },
  {
   "cell_type": "markdown",
   "metadata": {},
   "source": [
    "### Functions"
   ]
  },
  {
   "cell_type": "markdown",
   "metadata": {
    "collapsed": true
   },
   "source": [
    "1. Block of organized, reusable code that is used to perform a single, related action \n",
    "2. Provide better modularity for your application and a high degree of code reusing \n",
    "3. Python gives you many built-in functions like print(), len() etc..\n",
    "4. It is also possible to define user-defined functions"
   ]
  },
  {
   "cell_type": "markdown",
   "metadata": {},
   "source": [
    "*Let us write a small function that checks if the numvber entered by the user is 5*"
   ]
  },
  {
   "cell_type": "code",
   "execution_count": 4,
   "metadata": {
    "collapsed": false
   },
   "outputs": [
    {
     "name": "stdout",
     "output_type": "stream",
     "text": [
      "It is 5\n"
     ]
    }
   ],
   "source": [
    "# FUNCTION DEFINITION\n",
    "def check_if_5(user_number):\n",
    "    '''This function just checks if the number passed to it is equal\n",
    "    to 5 '''\n",
    "    if user_number == 5:\n",
    "        return 1\n",
    "    else:\n",
    "        return 0\n",
    "\n",
    "#FUNCTION CALL\n",
    "return_val = check_if_5(5)\n",
    "\n",
    "if return_val == 1:\n",
    "    print(\"It is 5\")\n",
    "else:\n",
    "    print(\"It is not 5\")"
   ]
  },
  {
   "cell_type": "markdown",
   "metadata": {},
   "source": [
    "#### 1. Syntax\n",
    "\n",
    "The syntax that is used is as follows:\n",
    "<img src = \"funsyn.png\">\n"
   ]
  },
  {
   "cell_type": "markdown",
   "metadata": {},
   "source": [
    "### Modules\n",
    "\n",
    "1. A set of related functions can be grouped together as module\n",
    "2. A module is nothing but a python file\n",
    "3. The open source community continuosly builds modules and makes it available for us\n",
    "4. To access these modules we need to use the \"import command\""
   ]
  },
  {
   "cell_type": "markdown",
   "metadata": {},
   "source": [
    "*Let us import a commonly used module and access one of its functions.*"
   ]
  },
  {
   "cell_type": "code",
   "execution_count": 9,
   "metadata": {
    "collapsed": false
   },
   "outputs": [
    {
     "name": "stdout",
     "output_type": "stream",
     "text": [
      "A random number between 1 and 6 is:  3\n"
     ]
    }
   ],
   "source": [
    "import random\n",
    "print('A random number between 1 and 6 is: ',random.randint(1,6))"
   ]
  },
  {
   "cell_type": "markdown",
   "metadata": {},
   "source": [
    "1. It is also possible to import specific functions from within the module directly. When you do this make sure you have not used the same name for your function."
   ]
  },
  {
   "cell_type": "code",
   "execution_count": 11,
   "metadata": {
    "collapsed": false
   },
   "outputs": [
    {
     "name": "stdout",
     "output_type": "stream",
     "text": [
      "A random number between 1 and 6 is:  6\n"
     ]
    }
   ],
   "source": [
    "from random import randint\n",
    "print('A random number between 1 and 6 is: ',randint(1,6))"
   ]
  }
 ],
 "metadata": {
  "anaconda-cloud": {},
  "kernelspec": {
   "display_name": "Python [default]",
   "language": "python",
   "name": "python3"
  },
  "language_info": {
   "codemirror_mode": {
    "name": "ipython",
    "version": 3
   },
   "file_extension": ".py",
   "mimetype": "text/x-python",
   "name": "python",
   "nbconvert_exporter": "python",
   "pygments_lexer": "ipython3",
   "version": "3.5.2"
  }
 },
 "nbformat": 4,
 "nbformat_minor": 1
}
