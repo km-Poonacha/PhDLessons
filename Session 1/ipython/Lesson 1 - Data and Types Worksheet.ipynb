{
  "nbformat": 4,
  "nbformat_minor": 0,
  "metadata": {
    "colab": {
      "name": "Lesson 1 - Data and Types.ipynb",
      "version": "0.3.2",
      "provenance": []
    },
    "language_info": {
      "codemirror_mode": {
        "name": "ipython",
        "version": 3
      },
      "file_extension": ".py",
      "mimetype": "text/x-python",
      "name": "python",
      "nbconvert_exporter": "python",
      "pygments_lexer": "ipython3",
      "version": "3.6.4"
    },
    "kernelspec": {
      "display_name": "Python 3",
      "language": "python",
      "name": "python3"
    }
  },
  "cells": [
    {
      "metadata": {
        "id": "YOCVlkTDtqZr",
        "colab_type": "text"
      },
      "cell_type": "markdown",
      "source": [
        "## Lesson 1: Data and Types"
      ]
    },
    {
      "metadata": {
        "id": "bhN5fgnltqZt",
        "colab_type": "text"
      },
      "cell_type": "markdown",
      "source": [
        "In this lesson we learn about the basic data types and data structures and play with them a little. \n",
        "\n",
        "1. Defines the format by which you input data to a program, modify it and output it in the consol\n",
        "2. Data types: integer, float, string and boolean \n",
        "3. Data structures: Lists, dictionaries, tuples etc\n",
        "4. Global vs. local variable\n",
        "\n",
        "Lets start by initializing integer, string, list and dictionary \n",
        " "
      ]
    },
    {
      "metadata": {
        "id": "UJvZ5CPHtqZu",
        "colab_type": "text"
      },
      "cell_type": "markdown",
      "source": [
        "### 1. Data Types\n",
        "*Let us create an integer and string variable and see its output.*"
      ]
    },
    {
      "metadata": {
        "id": "1vccnIIKtqZv",
        "colab_type": "code",
        "colab": {},
        "outputId": "0cc1a0ec-bb76-4b3c-8a12-8634aa56a324"
      },
      "cell_type": "code",
      "source": [
        "integer = 99\n",
        "string = 'poonacha'\n",
        "\n",
        "print('This is an integer: ',integer )\n",
        "print('This is a string: ',string )"
      ],
      "execution_count": 0,
      "outputs": [
        {
          "output_type": "stream",
          "text": [
            "This is an integer:  99\n",
            "This is a string:  poonacha\n"
          ],
          "name": "stdout"
        }
      ]
    },
    {
      "metadata": {
        "id": "sevq3rNNtqZ1",
        "colab_type": "text"
      },
      "cell_type": "markdown",
      "source": [
        "### 2. Data Structures\n",
        "Data structures combine the basic datatypes (integer, float, string, boolean) to create more complex types. There are several types of data structures but the most commonly used ones are \"lists\" and \"dictionaries\"\n",
        "\n",
        "#### Lists\n",
        "We start with a list. A list is a sequence of integer / character data types.\n",
        "Let us now create two list's one with only integer data \"i_list\" and the other with only character data \"c_list\". "
      ]
    },
    {
      "metadata": {
        "id": "t-8JCOritqZ1",
        "colab_type": "code",
        "colab": {},
        "outputId": "9bdca510-b9d3-45e6-9d71-8493c2429e50"
      },
      "cell_type": "code",
      "source": [
        "i_list = [1,2,3,4]\n",
        "c_list = ['day','month','year']\n",
        "\n",
        "print('This is an integer list: ',i_list )\n",
        "print('This is a char list: ',c_list )"
      ],
      "execution_count": 0,
      "outputs": [
        {
          "output_type": "stream",
          "text": [
            "This is an integer list:  [1, 2, 3, 4]\n",
            "This is a char list:  ['day', 'month', 'year']\n"
          ],
          "name": "stdout"
        }
      ]
    },
    {
      "metadata": {
        "id": "qnPkgkzctqZ5",
        "colab_type": "text"
      },
      "cell_type": "markdown",
      "source": [
        "The elements in the lists are numbered upwards from 0. Hence, we can access each element in the list using its index number. The following code prints the first element of c_list."
      ]
    },
    {
      "metadata": {
        "id": "10EZc8KPtqZ6",
        "colab_type": "code",
        "colab": {},
        "outputId": "9743e6ca-e857-428c-a2c8-c83166e41c88"
      },
      "cell_type": "code",
      "source": [
        "print('The first element is: ', c_list[0])"
      ],
      "execution_count": 0,
      "outputs": [
        {
          "output_type": "stream",
          "text": [
            "The first element is:  day\n"
          ],
          "name": "stdout"
        }
      ]
    },
    {
      "metadata": {
        "id": "q-d2G3m0tqZ9",
        "colab_type": "text"
      },
      "cell_type": "markdown",
      "source": [
        "#### Dictionaries\n",
        "A dictionary is similar to a list but rather than an index which represents each element, the dictionary uses a unique user defined key. The following code creates a dictionary by the name \"dict_date\" with three elements representing the current day, month and year."
      ]
    },
    {
      "metadata": {
        "id": "ZVTufy_3tqZ-",
        "colab_type": "code",
        "colab": {},
        "outputId": "25e5ab2a-9f0b-45fd-ab27-2ce7de0ce861"
      },
      "cell_type": "code",
      "source": [
        "dict_date = {'day' : 14 , 'month' : 3, 'year' : 2018} \n",
        "print('This is a dictionary: ',dict_date)\n",
        "print('Today in dictionary is: day - ',dict_date['day'],' month - ',dict_date['month'],' year - ', dict_date['year'] )"
      ],
      "execution_count": 0,
      "outputs": [
        {
          "output_type": "stream",
          "text": [
            "This is a dictionary:  {'day': 14, 'month': 3, 'year': 2018}\n",
            "Today in dictionary is: day -  14  month -  3  year -  2018\n"
          ],
          "name": "stdout"
        }
      ]
    },
    {
      "metadata": {
        "id": "Dz6JYxBEtqaB",
        "colab_type": "text"
      },
      "cell_type": "markdown",
      "source": [
        "### 3. Some Simple Data Operations \n",
        "\n",
        "#### Integer / floating point\n",
        "Most integer/floating point operators that you use in stata or other languages work in python as well - eg (+,-,*,/).\n",
        "\n",
        "*Let us write a code to find the quotient and reminder of a number given a divisor. The operator '//' can be used to find the quotient and '%' can be used to find the reminder.*"
      ]
    },
    {
      "metadata": {
        "id": "YDcS-IHVtqaC",
        "colab_type": "code",
        "colab": {},
        "outputId": "a336a376-f072-4f1e-da91-c54a95caa43d"
      },
      "cell_type": "code",
      "source": [
        "number = 199\n",
        "divisor = 10\n",
        "rem = 199 % 10\n",
        "quotient = 199 // 10\n",
        "print('reminder = ', rem,'quotient = ', quotient)"
      ],
      "execution_count": 0,
      "outputs": [
        {
          "output_type": "stream",
          "text": [
            "reminder =  9 quotient =  19\n"
          ],
          "name": "stdout"
        }
      ]
    },
    {
      "metadata": {
        "id": "NOTn1slXtqaH",
        "colab_type": "text"
      },
      "cell_type": "markdown",
      "source": [
        "#### String\n",
        "Strings are used to input and read sentences and words. There are several operations that can be done on a string. \n",
        "1. Concatinating - We can use either \"+\" operator combine two strings. Join() can be used to combine a list of strings into a single string."
      ]
    },
    {
      "metadata": {
        "id": "9d6BE2cDtqaH",
        "colab_type": "code",
        "colab": {},
        "outputId": "33e4883f-d823-4293-eb2c-b2f847657cce"
      },
      "cell_type": "code",
      "source": [
        "string = 'poonacha'\n",
        "string = string + ' medappa' \n",
        "print(string)\n",
        "print(string[0:3])"
      ],
      "execution_count": 0,
      "outputs": [
        {
          "output_type": "stream",
          "text": [
            "poonacha medappa\n",
            "poo\n"
          ],
          "name": "stdout"
        }
      ]
    },
    {
      "metadata": {
        "id": "YRNOVwXatqaL",
        "colab_type": "text"
      },
      "cell_type": "markdown",
      "source": [
        "1. split('*seperator*') - We can use the split() command to split a string into a list of smaller strings depending on a specified seperator \n",
        "2. Conversely, join('*seperator*') can be used to combine a list of strings into a single string using the seperator\n",
        "3. If no seperator is specified, it assumes the seperator is a space or a tab\n",
        "4. The input('*input message*') function is used to enter data from the consol\n",
        "\n",
        "*Let us write a code to enter a sentence and split it into a list of words.* "
      ]
    },
    {
      "metadata": {
        "id": "OZyGSvGDtqaM",
        "colab_type": "code",
        "colab": {},
        "outputId": "c106031f-6100-4cac-ff39-3bd9a0abdbac"
      },
      "cell_type": "code",
      "source": [
        "s_input = input('Enter the sentence to be split: ')\n",
        "words = s_input.split()\n",
        "print(words)\n",
        "print(words[0])"
      ],
      "execution_count": 0,
      "outputs": [
        {
          "output_type": "stream",
          "text": [
            "Enter the sentence to be split: My name is poonacha\n",
            "['My', 'name', 'is', 'poonacha']\n",
            "My\n"
          ],
          "name": "stdout"
        }
      ]
    },
    {
      "metadata": {
        "id": "9GZkvOmKtqaP",
        "colab_type": "text"
      },
      "cell_type": "markdown",
      "source": [
        "##### Excercise 1:\n",
        "*Write a small code to enter a date in \"dd/mm/yyyy\" format. Use the split() command to split the entered date into day, month and year. Hint. you need to specify the seperater as '/'.*"
      ]
    },
    {
      "metadata": {
        "id": "On-RkoSttqaQ",
        "colab_type": "code",
        "colab": {},
        "outputId": "23b8cbf7-2e02-47a5-d5f6-7ee686bd2bff"
      },
      "cell_type": "code",
      "source": [
        "# Enter Code\n",
        "\n",
        "\n",
        "\n"
      ],
      "execution_count": 0,
      "outputs": [
        {
          "output_type": "stream",
          "text": [
            "Enter date in dd/mm/yyyy format:25/09/1984\n",
            "the entered date is; day  25 month:  09 year:  1984\n"
          ],
          "name": "stdout"
        }
      ]
    },
    {
      "metadata": {
        "id": "KUh0UKU8tqaT",
        "colab_type": "text"
      },
      "cell_type": "markdown",
      "source": [
        "#### Lists\n",
        "Lists are mutable i.e. we can append, insert and delete elements from the list. \n",
        "\n",
        "Syntax - append(*data to be entered*), insert(*index*, *data*), del(*index*)"
      ]
    },
    {
      "metadata": {
        "id": "Sk62ZRPAtqaU",
        "colab_type": "code",
        "colab": {},
        "outputId": "ab58b6df-16eb-4426-ca09-fb86dec6536d"
      },
      "cell_type": "code",
      "source": [
        "i_list = [1,2,3,4]\n",
        "\n",
        "# Append the number 5 at the end\n",
        "i_list.append(5)\n",
        "print(i_list)\n",
        "\n",
        "# Insert the 1.5 between 1 and 2\n",
        "i_list.insert(1,1.5)\n",
        "print(i_list)\n",
        "\n",
        "#delete the number 1.5\n",
        "del i_list[1]\n",
        "print(i_list)\n",
        "\n",
        "#delete the number between position 0 and 2\n",
        "del i_list[0:2]\n",
        "print(i_list)\n",
        "\n",
        "#delete the entire list\n",
        "del i_list[:]\n",
        "print(i_list)"
      ],
      "execution_count": 0,
      "outputs": [
        {
          "output_type": "stream",
          "text": [
            "[1, 2, 3, 4, 5]\n",
            "[1, 1.5, 2, 3, 4, 5]\n",
            "[1, 2, 3, 4, 5]\n",
            "[3, 4, 5]\n",
            "[]\n"
          ],
          "name": "stdout"
        }
      ]
    }
  ]
}