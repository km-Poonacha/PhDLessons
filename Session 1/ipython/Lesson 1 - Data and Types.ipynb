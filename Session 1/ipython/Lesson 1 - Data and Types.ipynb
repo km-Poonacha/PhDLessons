{
 "cells": [
  {
   "cell_type": "markdown",
   "metadata": {},
   "source": [
    "## Lesson 1: Data and Types"
   ]
  },
  {
   "cell_type": "markdown",
   "metadata": {},
   "source": [
    "In this lesson we learn about the basic data types and data structures and play with them a little. \n",
    "\n",
    "1. Defines the format by which you input data to a program, modify it and output it in the consol\n",
    "2. Data types: integer, float, string and boolean \n",
    "3. Data structures: Lists, dictionaries, tuples etc\n",
    "4. Global vs. local variable\n",
    "\n",
    "Lets start by initializing integer, string, list and dictionary \n",
    " "
   ]
  },
  {
   "cell_type": "markdown",
   "metadata": {},
   "source": [
    "### 1. Data Types\n",
    "*Let us create an integer and string variable and see its output.*"
   ]
  },
  {
   "cell_type": "code",
   "execution_count": 3,
   "metadata": {},
   "outputs": [
    {
     "name": "stdout",
     "output_type": "stream",
     "text": [
      "This is an integer:  99\n",
      "This is a string:  poonacha\n"
     ]
    }
   ],
   "source": [
    "integer = 99\n",
    "string = 'poonacha'\n",
    "\n",
    "print('This is an integer: ',integer )\n",
    "print('This is a string: ',string )"
   ]
  },
  {
   "cell_type": "markdown",
   "metadata": {},
   "source": [
    "### 2. Data Structures\n",
    "Data structures combine the basic datatypes (integer, float, string, boolean) to create more complex types. There are several types of data structures but the most commonly used ones are \"lists\" and \"dictionaries\"\n",
    "\n",
    "#### Lists\n",
    "We start with a list. A list is a sequence of integer / character data types.\n",
    "Let us now create two list's one with only integer data \"i_list\" and the other with only character data \"c_list\". "
   ]
  },
  {
   "cell_type": "code",
   "execution_count": 2,
   "metadata": {},
   "outputs": [
    {
     "name": "stdout",
     "output_type": "stream",
     "text": [
      "This is an integer list:  [1, 2, 3, 4]\n",
      "This is a char list:  ['day', 'month', 'year']\n"
     ]
    }
   ],
   "source": [
    "i_list = [1,2,3,4]\n",
    "c_list = ['day','month','year']\n",
    "\n",
    "print('This is an integer list: ',i_list )\n",
    "print('This is a char list: ',c_list )"
   ]
  },
  {
   "cell_type": "markdown",
   "metadata": {},
   "source": [
    "The elements in the lists are numbered upwards from 0. Hence, we can access each element in the list using its index number. The following code prints the first element of c_list."
   ]
  },
  {
   "cell_type": "code",
   "execution_count": 5,
   "metadata": {},
   "outputs": [
    {
     "name": "stdout",
     "output_type": "stream",
     "text": [
      "The first element is:  day\n"
     ]
    }
   ],
   "source": [
    "print('The first element is: ', c_list[0])"
   ]
  },
  {
   "cell_type": "markdown",
   "metadata": {},
   "source": [
    "#### Dictionaries\n",
    "A dictionary is similar to a list but rather than an index which represents each element, the dictionary uses a unique user defined key. The following code creates a dictionary by the name \"dict_date\" with three elements representing the current day, month and year."
   ]
  },
  {
   "cell_type": "code",
   "execution_count": 1,
   "metadata": {},
   "outputs": [
    {
     "name": "stdout",
     "output_type": "stream",
     "text": [
      "This is a dictionary:  {'year': 2017, 'day': 29, 'month': 1}\n",
      "Today in dictionary is: day -  29  month -  1  year -  2017\n"
     ]
    }
   ],
   "source": [
    "dict_date = {'day' : 29 , 'month' : 1, 'year' : 2017} #It does not accept 01\n",
    "print('This is a dictionary: ',dict_date)\n",
    "print('Today in dictionary is: day - ',dict_date['day'],' month - ',dict_date['month'],' year - ', dict_date['year'] )"
   ]
  },
  {
   "cell_type": "markdown",
   "metadata": {},
   "source": [
    "### 3. Some Simple Data Operations \n",
    "\n",
    "#### Integer / floating point\n",
    "Most integer/floating point operators that you use in stata or other languages work in python as well - eg (+,-,*,/)."
   ]
  },
  {
   "cell_type": "markdown",
   "metadata": {},
   "source": [
    "Let us write a code to find the quotient and reminder of a number given a divisor. The operator '//' can be used to find the quotient and '%' can be used to find the reminder. "
   ]
  },
  {
   "cell_type": "code",
   "execution_count": 1,
   "metadata": {},
   "outputs": [
    {
     "name": "stdout",
     "output_type": "stream",
     "text": [
      "reminder =  9 quotient =  19\n"
     ]
    }
   ],
   "source": [
    "number = 199\n",
    "divisor = 10\n",
    "rem = 199 % 10\n",
    "quotient = 199 // 10\n",
    "print('reminder = ', rem,'quotient = ', quotient)"
   ]
  },
  {
   "cell_type": "markdown",
   "metadata": {},
   "source": [
    "#### String\n",
    "Strings are used to input and read sentences and words. There are several operations that can be done on a string. \n",
    "1. Concatinating - We can use either \"+\" operator combine two strings. Join() can be used to combine a list of strings into a single string."
   ]
  },
  {
   "cell_type": "code",
   "execution_count": 15,
   "metadata": {},
   "outputs": [
    {
     "name": "stdout",
     "output_type": "stream",
     "text": [
      "poonacha medappa\n"
     ]
    }
   ],
   "source": [
    "string = 'poonacha'\n",
    "string = string + ' medappa' \n",
    "print(string)"
   ]
  },
  {
   "cell_type": "markdown",
   "metadata": {},
   "source": [
    "1. split('*seperator*') - We can use the split() command to split a string into a list of smaller strings depending on a specified seperator \n",
    "2. Conversely, join('*seperator*') can be used to combine a list of strings into a single string using the seperator\n",
    "3. If no seperator is specified, it assumes the seperator is a space or a tab\n",
    "4. The input('*input message*') function is used to enter data from the consol\n",
    "\n",
    "*Let us write a code to enter a sentence and split it into a list of words.* "
   ]
  },
  {
   "cell_type": "code",
   "execution_count": 3,
   "metadata": {},
   "outputs": [
    {
     "name": "stdout",
     "output_type": "stream",
     "text": [
      "Enter the sentence to be split: My name is poonacha\n",
      "['My', 'name', 'is', 'poonacha']\n",
      "My\n"
     ]
    }
   ],
   "source": [
    "s_input = input('Enter the sentence to be split: ')\n",
    "words = s_input.split()\n",
    "print(words)\n",
    "print(words[0])"
   ]
  },
  {
   "cell_type": "markdown",
   "metadata": {},
   "source": [
    "##### Excercise 1:\n",
    "*Write a small code to enter a date in \"dd/mm/yyyy\" format. Use the split() command to split the entered date into day, month and year. Hint. you need to specify the seperater as '/'.*"
   ]
  },
  {
   "cell_type": "code",
   "execution_count": 6,
   "metadata": {},
   "outputs": [
    {
     "name": "stdout",
     "output_type": "stream",
     "text": [
      "Enter date in dd/mm/yyyy format: 25/09/1984\n",
      "The entered date is; day:  25 , month:  09 , year:  1984\n"
     ]
    }
   ],
   "source": [
    "# Enter Code\n",
    "\n",
    "\n",
    "\n",
    "\n"
   ]
  },
  {
   "cell_type": "markdown",
   "metadata": {},
   "source": [
    "#### Lists\n",
    "Lists are mutable i.e. we can append, insert and delete elements from the list. append(*data to be entered*), insert(*index*, *data*), del(*index*)"
   ]
  },
  {
   "cell_type": "code",
   "execution_count": 7,
   "metadata": {},
   "outputs": [
    {
     "name": "stdout",
     "output_type": "stream",
     "text": [
      "[1, 2, 3, 4, 5]\n",
      "[1, 1.5, 2, 3, 4, 5]\n",
      "[1, 1.5, 3, 4, 5]\n",
      "[]\n"
     ]
    }
   ],
   "source": [
    "i_list = [1,2,3,4]\n",
    "\n",
    "# Append the number 5 at the end\n",
    "i_list.append(5)\n",
    "print(i_list)\n",
    "\n",
    "# Insert the 1.5 between 1 and 2\n",
    "i_list.insert(1,1.5)\n",
    "print(i_list)\n",
    "\n",
    "#delete the number 2\n",
    "del i_list[2]\n",
    "print(i_list)\n",
    "\n",
    "#delete the entire list\n",
    "del i_list[:]\n",
    "print(i_list)"
   ]
  }
 ],
 "metadata": {
  "anaconda-cloud": {},
  "kernelspec": {
   "display_name": "Python 3",
   "language": "python",
   "name": "python3"
  },
  "language_info": {
   "codemirror_mode": {
    "name": "ipython",
    "version": 3
   },
   "file_extension": ".py",
   "mimetype": "text/x-python",
   "name": "python",
   "nbconvert_exporter": "python",
   "pygments_lexer": "ipython3",
   "version": "3.6.4"
  }
 },
 "nbformat": 4,
 "nbformat_minor": 1
}
