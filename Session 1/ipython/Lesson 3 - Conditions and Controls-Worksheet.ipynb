{
 "cells": [
  {
   "cell_type": "markdown",
   "metadata": {},
   "source": [
    "# Lesson 3: Conditions and Loops"
   ]
  },
  {
   "cell_type": "markdown",
   "metadata": {},
   "source": [
    "## Conditions - Compare with \"if\", \"elif\" and \"else\"\n",
    "\n",
    "1. Evaluate expressions which produce TRUE or FALSE as outcome\n",
    "2. Based on the outcome of the expression a specific block of code is executed\n",
    "3. The expressions could be: equality (==) , inequality (!=), less/greater than (<)(>), less/greater than or equal  \n",
    "   (<=) (>=), membership (in, not in)\n",
    "4. Expressions can be combined using \"and\" and \"or\" and \"and not\"\n",
    "<img src=\"ifcondition.jpg\">"
   ]
  },
  {
   "cell_type": "markdown",
   "metadata": {},
   "source": [
    "*Let us write a small code that mimics a dice by generating a random number between 1 and 6. It then asks you to enter a number between 1 and 6. If what you enter equals the dice value you win or else you loose.*"
   ]
  },
  {
   "cell_type": "code",
   "execution_count": 1,
   "metadata": {},
   "outputs": [
    {
     "name": "stdout",
     "output_type": "stream",
     "text": [
      "Input a number between 1 and 6: 2\n",
      "Sorry, the dice showed:  3\n"
     ]
    }
   ],
   "source": [
    " #From the random library we import the randint function. \n",
    "\n",
    "#Generate a random number between 1 and 6\n",
    "\n",
    "#!!!Input always passes strings !!!\n",
    "\n"
   ]
  },
  {
   "cell_type": "markdown",
   "metadata": {},
   "source": [
    "## Loops - Repeat with \"while\" and Iterate with \"for\" "
   ]
  },
  {
   "cell_type": "markdown",
   "metadata": {},
   "source": [
    "### While loop\n",
    "1. A loop statement allows us to execute a statement or group of statements multiple times\n",
    "2. While loop is the simplest loop which executes a block of code until and expression is True\n",
    "3. A 'break' command can be used to exit any loop prematurely\n",
    "4. A 'continue' command can be used to skip ahead to the next iterations without exiting the loop\n",
    "<img src=\"whileloop.png\">"
   ]
  },
  {
   "cell_type": "markdown",
   "metadata": {},
   "source": [
    "*Now lets improve the previous function \"dice()\" such that the user has 5 attempts at entering the number and getting the right dice value. *"
   ]
  },
  {
   "cell_type": "code",
   "execution_count": 3,
   "metadata": {},
   "outputs": [
    {
     "name": "stdout",
     "output_type": "stream",
     "text": [
      "Input a number between 1 and 6: 1\n",
      "Sorry, the dice showed:  2\n",
      "Input a number between 1 and 6: 1\n",
      "Sorry, the dice showed:  6\n",
      "Input a number between 1 and 6: 1\n",
      "Sorry, the dice showed:  6\n",
      "Input a number between 1 and 6: 1\n",
      "Congratulations ! The value entered is the dice value\n",
      "Input a number between 1 and 6: 1\n",
      "Sorry, the dice showed:  5\n"
     ]
    }
   ],
   "source": []
  },
  {
   "cell_type": "markdown",
   "metadata": {},
   "source": [
    "*Excercise : Can you edit the the previous code so that it stops asking the user to enter a number when the value entered matches the dice value ? Hint: You will need to use the \"break\" command within the while loop. Also remember that you can use the \"return\" command to pass values back to the calling function.*"
   ]
  },
  {
   "cell_type": "code",
   "execution_count": 6,
   "metadata": {},
   "outputs": [
    {
     "name": "stdout",
     "output_type": "stream",
     "text": [
      "Input a number between 1 and 6: 3\n",
      "Sorry, the dice showed:  6\n",
      "Input a number between 1 and 6: 3\n",
      "Congratulations ! The value entered is the dice value\n"
     ]
    }
   ],
   "source": [
    "# Enter code here\n"
   ]
  },
  {
   "cell_type": "markdown",
   "metadata": {},
   "source": [
    "### For loop\n",
    "1. For loops are used to iterate over data\n",
    "2. It makes it possible for you to traverse data structures without knowing how large they are\n",
    "3. You can even iterate over datastreams in real time"
   ]
  },
  {
   "cell_type": "markdown",
   "metadata": {},
   "source": [
    "*Let us write a program that asks the user to enter a text sentence and counts the number of times a particular character occurs in the sentence.*"
   ]
  },
  {
   "cell_type": "code",
   "execution_count": 4,
   "metadata": {},
   "outputs": [
    {
     "name": "stdout",
     "output_type": "stream",
     "text": [
      "Input your sentence: My name in poo\n",
      "Input the character that needs to be counted: o\n",
      "Number of times the character ' o ' occurs is:  2\n"
     ]
    }
   ],
   "source": []
  },
  {
   "cell_type": "markdown",
   "metadata": {},
   "source": [
    "*Excercise: Can you use the for loop so that it counts the number of times a given word occurs in a sentence ? Hint: Use the split() command to split the sentence into a list of words and then use the for loop to traverse through the list.*"
   ]
  },
  {
   "cell_type": "code",
   "execution_count": null,
   "metadata": {
    "collapsed": true
   },
   "outputs": [],
   "source": []
  }
 ],
 "metadata": {
  "anaconda-cloud": {},
  "kernelspec": {
   "display_name": "Python 3",
   "language": "python",
   "name": "python3"
  },
  "language_info": {
   "codemirror_mode": {
    "name": "ipython",
    "version": 3
   },
   "file_extension": ".py",
   "mimetype": "text/x-python",
   "name": "python",
   "nbconvert_exporter": "python",
   "pygments_lexer": "ipython3",
   "version": "3.6.4"
  }
 },
 "nbformat": 4,
 "nbformat_minor": 2
}
