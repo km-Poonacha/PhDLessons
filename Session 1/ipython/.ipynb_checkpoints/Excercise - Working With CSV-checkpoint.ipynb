{
 "cells": [
  {
   "cell_type": "markdown",
   "metadata": {},
   "source": [
    "# Excercise - Working With CSV"
   ]
  },
  {
   "cell_type": "markdown",
   "metadata": {},
   "source": [
    "### Using the CSV module\n",
    "\n",
    "1. A CSV file is often used exchange format for spreadsheets and databases.\n",
    "2. Each line is called a record and each field within a record is seperated by a delimiter such as comma, tab etc.\n",
    "3. Keep in mind that Mac uses a different delimiter to determine the end of a row in a CSV file ('\\r') than Microsoft ('\\r\\n'). Since the CSV python module we will use works well with Windows CSV files, we will save and use a Windows CSV file in our program. So in MAC, you have to save the CSV file as \"windows csv\" file rather than just csv file.\n",
    "4. We use the module \"CSV\" which is not included in the standard library of Python."
   ]
  },
  {
   "cell_type": "markdown",
   "metadata": {},
   "source": [
    "*Let us write a program to read a CSV file (word_sentiment.csv). This file contains a list of 2000 + words and its sentiment ranging form -5 to +5.* \n",
    "*Write a function \"word_sentiment\" which checks if the entered word is found in the sentiment_csv file and returns the corresponding sentiment. If the word is not found it returns 0.*"
   ]
  },
  {
   "cell_type": "markdown",
   "metadata": {},
   "source": [
    "#### Step 1:Import the module CSV.\n",
    "If any module is not included in the computer, we will need to do \"pip install csv\" in the terminal (in case of mac) or in the command prompt (in case of windows). "
   ]
  },
  {
   "cell_type": "code",
   "execution_count": 1,
   "metadata": {},
   "outputs": [],
   "source": [
    "import csv"
   ]
  },
  {
   "cell_type": "markdown",
   "metadata": {},
   "source": [
    "#### Step 2: Assign the path of the file to a global variable \"SENTIMENT_CSV\""
   ]
  },
  {
   "cell_type": "code",
   "execution_count": 4,
   "metadata": {},
   "outputs": [],
   "source": [
    "SENTIMENT_CSV = \"C:/Users/kmpoo/Dropbox/HEC/Teaching/Python for PhD Mar 2018/python4phd/Session 1/Sent/word_sentiment.csv\""
   ]
  },
  {
   "cell_type": "markdown",
   "metadata": {},
   "source": [
    "#### Step 3: Open the file using the \"with open()\" command and read the file\n",
    "Before we read a file, we need to open it. The \"with open()\" command is very handy since it can open the file and give you a handler with which you can read the file. One of the benefits of the \"with\"command is that (unlike the simple open() command) it can automaticaly close the file, allowing write operations to be completed. The syntax is :\n",
    "\n",
    "***with open('filename', 'mode', 'encoding') as *fileobj* ***\n",
    "\n",
    "Where ***fileobj*** is the file object returned by open(); ***filename*** is the string name of the file. ***mode*** indicates what you want to do with the file and ***ecoding*** defines the type of encoding with which you want to open the file.\n",
    "\n",
    "Mode could be:\n",
    "* w -> write. if the file exists it is overwritten\n",
    "* r -> read\n",
    "* a -> append. Write at the end of the file\n",
    "* x - > write. Only if the file does not exist. It does not allow a file to be re-written\n",
    "\n",
    "For each, adding a subfix 't' refers to read/write as text and the subfix 'b' refers to read/write as bytes.\n",
    "\n",
    "Encoding could be:\n",
    "* 'ascii'\n",
    "* 'utf-8'\n",
    "* 'latin-1'\n",
    "* 'cp-1252'\n",
    "* 'unicode-escape'\n",
    "\n",
    "After opening the file, we call the **csv.reader()** function to read the data. It assigns a data structure (similar to a multidimentional list) which we can use to read any cell in the csv file."
   ]
  },
  {
   "cell_type": "code",
   "execution_count": null,
   "metadata": {},
   "outputs": [],
   "source": [
    "with open(SENTIMENT_CSV, 'rt',encoding = 'utf-8') as senti_data:\n",
    "    sentiment = csv.reader(senti_data)\n",
    "    for data_row in sentiment:\n",
    "        print(data_row)"
   ]
  },
  {
   "cell_type": "markdown",
   "metadata": {},
   "source": [
    "Let us package all of this into a nice function which \n",
    "- reads the word_sentiment.csv file \n",
    "- searches for a particualr given word \n",
    "- returns the sentiment value of the word given to it. If the word is not found it returns 0 ."
   ]
  },
  {
   "cell_type": "code",
   "execution_count": 9,
   "metadata": {},
   "outputs": [
    {
     "name": "stdout",
     "output_type": "stream",
     "text": [
      "enter the word: poo\n",
      "the sentiment of the word  poo  is:  0\n"
     ]
    }
   ],
   "source": [
    "# Python version 3.5\n",
    "\n",
    "import csv\n",
    "SENTIMENT_CSV = \"C:/Users/kmpoo/Dropbox/HEC/Teaching/Python for PhD Mar 2018/python4phd/Session 1/Sent/word_sentiment.csv\"  \n",
    "'''Updated the path to point to your file. The path provided changes based on your operating system. '''\n",
    "\n",
    "def word_sentiment(word):\n",
    "    '''This function uses the word_sentiment.csv file to find the sentiment of the word \n",
    "    entered'''\n",
    "    with open(SENTIMENT_CSV, 'rt',encoding = 'utf-8') as senti_data:\n",
    "        sentiment = csv.reader(senti_data)\n",
    "\n",
    "        for data_row in sentiment:          \n",
    "            if data_row[0] == word:\n",
    "                sentiment_val = data_row[1]                \n",
    "                return sentiment_val\n",
    "\n",
    "        return 0    \n",
    "                \n",
    "def main():\n",
    "    word_in = input(\"enter the word: \").lower()\n",
    "    return_val = word_sentiment(word_in)\n",
    "    print(\"the sentiment of the word \",word_in ,\" is: \",return_val)\n",
    "main()"
   ]
  },
  {
   "cell_type": "markdown",
   "metadata": {},
   "source": [
    "*Now let us update this code so that we ask the user to enter a sentence. We then break the sentence into words and find the sentiment of each word. We then aggregate the sentiments across all the words to calcuate the sentiment of the sentence and tell if the sentence entered is positive or negative. Hint: Use the split() command we saw in lesson 1.*"
   ]
  },
  {
   "cell_type": "code",
   "execution_count": 12,
   "metadata": {},
   "outputs": [
    {
     "name": "stdout",
     "output_type": "stream",
     "text": [
      "enter the sentence: poonacha is bad\n",
      "The entered sentence has a negative sentiment\n"
     ]
    }
   ],
   "source": [
    "# Python version 3.5\n",
    "import csv\n",
    "SENTIMENT_CSV = \"C:/Users/kmpoo/Dropbox/HEC/Teaching/Python for PhD Mar 2018/python4phd/Session 1/Sent/word_sentiment.csv\"#Updated the path to point to your file. \n",
    "'''The path provided changes based on your operating system. For a windows system the format \n",
    "of the path will be \"C:/Users/User/Desktop/word_sentiment.csv\" '''\n",
    "\n",
    "def word_sentiment(word):\n",
    "    \"\"\"This function uses the word_sentiment.csv file to find the sentiment of the word \n",
    "    entered\"\"\"\n",
    "    with open(SENTIMENT_CSV, 'rt',encoding = 'utf-8') as senti_data:\n",
    "        sentiment = csv.reader(senti_data)\n",
    "\n",
    "        for data_row in sentiment:          \n",
    "            if data_row[0] == word:\n",
    "                sentiment_val = data_row[1]                \n",
    "                return sentiment_val\n",
    "\n",
    "        return 0    \n",
    "                \n",
    "def main():\n",
    "    \"\"\"This function asks the user to input a sentence and tries to calculate the sentiment \n",
    "    of the sentence\"\"\"\n",
    "    sentiment = 0 \n",
    "    sentence_in = input(\"enter the sentence: \").lower()\n",
    "    words_list = sentence_in.split()\n",
    "    for word in words_list:\n",
    "        sentiment = sentiment + int(word_sentiment(word))\n",
    "\n",
    "    if sentiment > 0: \n",
    "        print(\"The entered sentence has a positive sentiment\")\n",
    "    elif sentiment == 0: \n",
    "        print(\"The entered sentence has a neutral sentiment\")\n",
    "    else:\n",
    "        print(\"The entered sentence has a negative sentiment\")\n",
    "              \n",
    "main()"
   ]
  },
  {
   "cell_type": "markdown",
   "metadata": {},
   "source": [
    "*Can you improve this code to handle double like \"not\" ? eg. \"poonacha is not good\" should return a negative sentiment rather than positive .*"
   ]
  },
  {
   "cell_type": "code",
   "execution_count": null,
   "metadata": {
    "collapsed": true
   },
   "outputs": [],
   "source": [
    "# Enter code here \n",
    "\n",
    "\n",
    "\n",
    "\n"
   ]
  },
  {
   "cell_type": "markdown",
   "metadata": {},
   "source": [
    "*Do you think we can build a rudimentary learning algorithm to imporve the corpus of sentiments ?*"
   ]
  }
 ],
 "metadata": {
  "anaconda-cloud": {},
  "kernelspec": {
   "display_name": "Python 3",
   "language": "python",
   "name": "python3"
  },
  "language_info": {
   "codemirror_mode": {
    "name": "ipython",
    "version": 3
   },
   "file_extension": ".py",
   "mimetype": "text/x-python",
   "name": "python",
   "nbconvert_exporter": "python",
   "pygments_lexer": "ipython3",
   "version": "3.6.4"
  }
 },
 "nbformat": 4,
 "nbformat_minor": 2
}
