{
 "cells": [
  {
   "cell_type": "markdown",
   "metadata": {},
   "source": [
    "# Lesson 2: Functions and Modules"
   ]
  },
  {
   "cell_type": "markdown",
   "metadata": {
    "collapsed": true
   },
   "source": [
    "## Functions\n",
    "1. Block of organized, reusable code that is used to perform a single, related action \n",
    "2. Provide better modularity for your application and a high degree of code reusing \n",
    "3. Python gives you many built-in functions like print(), len() etc..\n",
    "4. It is also possible to define user-defined functions\n",
    "\n",
    "*Wite a small function that checks if the number entered by the user is 5*"
   ]
  },
  {
   "cell_type": "code",
   "execution_count": 1,
   "metadata": {},
   "outputs": [
    {
     "name": "stdout",
     "output_type": "stream",
     "text": [
      "It is 5\n"
     ]
    }
   ],
   "source": [
    "# FUNCTION DEFINITION\n",
    "\n",
    "\n",
    "#FUNCTION CALL\n"
   ]
  },
  {
   "cell_type": "markdown",
   "metadata": {},
   "source": [
    "\n",
    "<img src = \"funsyn.jpg\">\n"
   ]
  },
  {
   "cell_type": "markdown",
   "metadata": {},
   "source": [
    "## Modules\n",
    "\n",
    "1. A set of related functions can be grouped together as module\n",
    "2. A module is nothing but a python file\n",
    "3. The open source community continuosly builds modules and makes it available for us\n",
    "4. To access these modules we need to use the \"import command\"\n",
    "\n",
    "*Let us import a commonly used module and access one of its functions.*"
   ]
  },
  {
   "cell_type": "code",
   "execution_count": 2,
   "metadata": {},
   "outputs": [
    {
     "name": "stdout",
     "output_type": "stream",
     "text": [
      "A random number between 1 and 6 is:  6\n"
     ]
    }
   ],
   "source": []
  },
  {
   "cell_type": "markdown",
   "metadata": {},
   "source": [
    "It is also possible to import specific functions from within the module directly. When you do this make sure you have not used the same name for your function."
   ]
  },
  {
   "cell_type": "code",
   "execution_count": 3,
   "metadata": {},
   "outputs": [
    {
     "name": "stdout",
     "output_type": "stream",
     "text": [
      "A random number between 1 and 6 is:  3\n"
     ]
    }
   ],
   "source": []
  }
 ],
 "metadata": {
  "anaconda-cloud": {},
  "kernelspec": {
   "display_name": "Python 3",
   "language": "python",
   "name": "python3"
  },
  "language_info": {
   "codemirror_mode": {
    "name": "ipython",
    "version": 3
   },
   "file_extension": ".py",
   "mimetype": "text/x-python",
   "name": "python",
   "nbconvert_exporter": "python",
   "pygments_lexer": "ipython3",
   "version": "3.6.4"
  }
 },
 "nbformat": 4,
 "nbformat_minor": 1
}
