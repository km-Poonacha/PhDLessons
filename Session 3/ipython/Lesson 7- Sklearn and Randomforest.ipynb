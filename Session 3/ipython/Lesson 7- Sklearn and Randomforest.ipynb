{
 "cells": [
  {
   "cell_type": "markdown",
   "metadata": {},
   "source": [
    "# Ensemble methods\n",
    "The goal of ensemble methods is to combine the predictions of several base estimators built with a given learning algorithm in order to improve generalizability / robustness over a single estimator.\n",
    "\n",
    "Two families of ensemble methods are usually distinguished:\n",
    "\n",
    "* Averaging methods: Here the driving principle is to build several estimators independently and then to average their predictions. On average, the combined estimator is usually better than any of the single base estimator because its variance is reduced. Example: Random forest\n",
    "\n",
    "* Boosting methods: Here base estimators are built sequentially and one tries to reduce the bias of the combined estimator. The motivation is to combine several weak models to produce a powerful ensemble. Example: Adaboost\n",
    "\n",
    "### Random Forest classifier\n",
    "In random forests, each tree in the ensemble is built from a sample drawn with replacement from the training set. In addition, when splitting a node during the construction of the tree, the split that is chosen is no longer the best split among all features. Instead, the split that is picked is the best split among a random subset of the features. As a result of this randomness, the bias of the forest usually slightly increases (with respect to the bias of a single non-random tree) but, due to averaging, its variance also decreases, usually more than compensating for the increase in bias, hence yielding an overall better model."
   ]
  },
  {
   "cell_type": "markdown",
   "metadata": {},
   "source": [
    "### Sklearn\n",
    "High level module built on NumPy, SciPy, and matplotlib. Scikit-learn is a Python module integrating a wide range of state-of-the-art machine learning algorithms for medium-scale supervised and unsupervised problems. This package focuses on bringing machine learning to non-specialists using a general-purpose high-level language. Emphasis is put on ease of use, performance, documentation, and API consistency."
   ]
  },
  {
   "cell_type": "markdown",
   "metadata": {},
   "source": [
    "#### Step 1: Import data\n",
    "*Create dataframes from the csv data*"
   ]
  },
  {
   "cell_type": "code",
   "execution_count": 52,
   "metadata": {},
   "outputs": [
    {
     "name": "stdout",
     "output_type": "stream",
     "text": [
      "       sentiment                                        review_text\n",
      "0              1  It makes me sad that the name has Honduras in ...\n",
      "1              4  My friends got take out from this place, I tri...\n",
      "2              5  My wife took me here. The service ain't top no...\n",
      "3              4  This is the best place to eat hondurean food. ...\n",
      "4              5  Belizean fish market has always been the go to...\n",
      "5              4  Bird's Nest is a nice find in an area you woul...\n",
      "6              1  I'm giving this Place one star because of ther...\n",
      "7              1  I usually enjoy this establishment very much! ...\n",
      "8              2  Super mediocre. If you like your brownies to t...\n",
      "9              5  YAY!  This place is gr8!  Where do I start?  T...\n",
      "10             5  Everything in the menu is delicious!!! They ca...\n",
      "11             5  No complaints, I ordered an American which tas...\n",
      "12             5  I looooove this place! I live pretty close by ...\n",
      "13             3  The Bird's Nest hot chocolate is delectable! M...\n",
      "14             5  Went here with my co-worker last Thursday for ...\n",
      "15             4  Cute little spot. More of a pastry and coffee ...\n",
      "16             4  I recently stopped by at Bird's Nest cafe for ...\n",
      "17             4  Came by this morning to have some breakfast wi...\n",
      "18             5  Had a great time here, i like the vibes, very ...\n",
      "19             4  Great small place with a lot of options for br...\n",
      "20             5  Love this place! My friends and I have been co...\n",
      "21             5  Delicious!! This place has amazing food!! High...\n",
      "22             2  I was there today for breakfast and honestly t...\n",
      "23             4  Great food and service. Gets busy at peak lunc...\n",
      "24             5  The French toast here is mouth watering good! ...\n",
      "25             4  Came by for a random brunch with a friend: If ...\n",
      "26             5  I am a fan of Bird's Nest Cafe! Cute little sp...\n",
      "27             2  I usually love coming here , but I made the mi...\n",
      "28             5  ??????? First Impression: -Friendly and good l...\n",
      "29             5  I'll be honest right up front here folks - I f...\n",
      "...          ...                                                ...\n",
      "11529          5  The service makes this the best place to get p...\n",
      "11530          4  Bomb little spot! Fish tacos are beer battered...\n",
      "11531          5  Great tortas....pastor is our favorite!  Also ...\n",
      "11532          5  It does not get any better! Addictive! I had t...\n",
      "11533          5  This one is easy...do you like ceviche? Then t...\n",
      "11534          5  this is a hole in the wall seafood market and ...\n",
      "11535          5  Chicken is awesome!!! Skin is kicky and crispy...\n",
      "11536          4  I'm not too much of a noodle fan, but I enjoye...\n",
      "11537          5  We come often with my family the service is al...\n",
      "11538          5  Dare I say, the best tacos I've had in LA. Tri...\n",
      "11539          5  Have been here a few times and it never disapp...\n",
      "11540          5  It's a little hole in the wall that serves fre...\n",
      "11541          5  Tasty and fast. Also, you can order just one p...\n",
      "11542          5  Delicious snacks, wonderful coffee, super cute...\n",
      "11543          2  The Pupusas were ok not what I expected from a...\n",
      "11544          5  Such incredible food and friendly staff!! Nice...\n",
      "11545          2  Glad I tried but will likely not be returning....\n",
      "11546          5  I love this place! Who knew that teriyaki chic...\n",
      "11547          2  The pupusas are pretty good. I walked in and d...\n",
      "11548          1  Complete yelp hype. This place is caca. Bad se...\n",
      "11549          5  Excellent food. We got the pork and potato sou...\n",
      "11550          5  Israel, you are the MAN! Thank you for the 10 ...\n",
      "11551          4  Ask for the icing glass and cow foot soup. Tas...\n",
      "11552          5  The best neckbone and potato stew and BBQ ribs...\n",
      "11553          1  Sitting at the counter eating pasta, just now....\n",
      "11554          1  Yuck!! found a hair in my \"memela\" asked the w...\n",
      "11555          5  I've tried plenty of fried chicken spots and I...\n",
      "11556          5  Home cooked meal is exactly that but if I was ...\n",
      "11557          5  Needed a place to write and tried this place f...\n",
      "11558          3  What kind of Cevicheria doesn't sell beer ? . ...\n",
      "\n",
      "[11559 rows x 2 columns]\n"
     ]
    }
   ],
   "source": [
    "import pandas as pd\n",
    "import numpy as np\n",
    "\n",
    "\n",
    "TRAIN_CSV = \"C:\\\\Users\\kmpoo\\Dropbox\\HEC\\Teaching\\Python for PhD May 2019\\python4phd\\Session 3\\Sent\\sentence_review.csv\"\n",
    "dataframe = pd.read_csv(TRAIN_CSV, sep=\",\",error_bad_lines=False,header= 0, low_memory=False, encoding = \"Latin1\")\n",
    "print(dataframe)\n"
   ]
  },
  {
   "cell_type": "markdown",
   "metadata": {},
   "source": [
    "#### Step 2: Manipulate the dataframe and add new features\n",
    "*Create a new feature \"length of the sentence\"*\n",
    "\n"
   ]
  },
  {
   "cell_type": "code",
   "execution_count": 63,
   "metadata": {},
   "outputs": [
    {
     "name": "stdout",
     "output_type": "stream",
     "text": [
      "       sentiment                                        review_text  nWords  \\\n",
      "0              1  It makes me sad that the name has Honduras in ...     172   \n",
      "1              4  My friends got take out from this place, I tri...      87   \n",
      "2              5  My wife took me here. The service ain't top no...      51   \n",
      "3              4  This is the best place to eat hondurean food. ...     100   \n",
      "4              5  Belizean fish market has always been the go to...      22   \n",
      "5              4  Bird's Nest is a nice find in an area you woul...     208   \n",
      "6              1  I'm giving this Place one star because of ther...     138   \n",
      "7              1  I usually enjoy this establishment very much! ...     137   \n",
      "8              2  Super mediocre. If you like your brownies to t...     133   \n",
      "9              5  YAY!  This place is gr8!  Where do I start?  T...     134   \n",
      "10             5  Everything in the menu is delicious!!! They ca...     138   \n",
      "11             5  No complaints, I ordered an American which tas...      73   \n",
      "12             5  I looooove this place! I live pretty close by ...      99   \n",
      "13             3  The Bird's Nest hot chocolate is delectable! M...      82   \n",
      "14             5  Went here with my co-worker last Thursday for ...     148   \n",
      "15             4  Cute little spot. More of a pastry and coffee ...      40   \n",
      "16             4  I recently stopped by at Bird's Nest cafe for ...     190   \n",
      "17             4  Came by this morning to have some breakfast wi...     271   \n",
      "18             5  Had a great time here, i like the vibes, very ...      71   \n",
      "19             4  Great small place with a lot of options for br...     112   \n",
      "20             5  Love this place! My friends and I have been co...     101   \n",
      "21             5  Delicious!! This place has amazing food!! High...      44   \n",
      "22             2  I was there today for breakfast and honestly t...     164   \n",
      "23             4  Great food and service. Gets busy at peak lunc...      61   \n",
      "24             5  The French toast here is mouth watering good! ...      61   \n",
      "25             4  Came by for a random brunch with a friend: If ...     408   \n",
      "26             5  I am a fan of Bird's Nest Cafe! Cute little sp...     117   \n",
      "27             2  I usually love coming here , but I made the mi...      89   \n",
      "28             5  ??????? First Impression: -Friendly and good l...     101   \n",
      "29             5  I'll be honest right up front here folks - I f...     286   \n",
      "...          ...                                                ...     ...   \n",
      "11529          5  The service makes this the best place to get p...     119   \n",
      "11530          4  Bomb little spot! Fish tacos are beer battered...      47   \n",
      "11531          5  Great tortas....pastor is our favorite!  Also ...      20   \n",
      "11532          5  It does not get any better! Addictive! I had t...      87   \n",
      "11533          5  This one is easy...do you like ceviche? Then t...     279   \n",
      "11534          5  this is a hole in the wall seafood market and ...     104   \n",
      "11535          5  Chicken is awesome!!! Skin is kicky and crispy...      51   \n",
      "11536          4  I'm not too much of a noodle fan, but I enjoye...      58   \n",
      "11537          5  We come often with my family the service is al...      32   \n",
      "11538          5  Dare I say, the best tacos I've had in LA. Tri...     135   \n",
      "11539          5  Have been here a few times and it never disapp...      56   \n",
      "11540          5  It's a little hole in the wall that serves fre...      58   \n",
      "11541          5  Tasty and fast. Also, you can order just one p...      34   \n",
      "11542          5  Delicious snacks, wonderful coffee, super cute...      51   \n",
      "11543          2  The Pupusas were ok not what I expected from a...     110   \n",
      "11544          5  Such incredible food and friendly staff!! Nice...      60   \n",
      "11545          2  Glad I tried but will likely not be returning....     115   \n",
      "11546          5  I love this place! Who knew that teriyaki chic...      33   \n",
      "11547          2  The pupusas are pretty good. I walked in and d...      72   \n",
      "11548          1  Complete yelp hype. This place is caca. Bad se...      78   \n",
      "11549          5  Excellent food. We got the pork and potato sou...      20   \n",
      "11550          5  Israel, you are the MAN! Thank you for the 10 ...      66   \n",
      "11551          4  Ask for the icing glass and cow foot soup. Tas...      32   \n",
      "11552          5  The best neckbone and potato stew and BBQ ribs...      18   \n",
      "11553          1  Sitting at the counter eating pasta, just now....     169   \n",
      "11554          1  Yuck!! found a hair in my \"memela\" asked the w...      59   \n",
      "11555          5  I've tried plenty of fried chicken spots and I...     203   \n",
      "11556          5  Home cooked meal is exactly that but if I was ...     116   \n",
      "11557          5  Needed a place to write and tried this place f...      34   \n",
      "11558          3  What kind of Cevicheria doesn't sell beer ? . ...      77   \n",
      "\n",
      "       bi_senti  \n",
      "0      negative  \n",
      "1      positive  \n",
      "2      positive  \n",
      "3      positive  \n",
      "4      positive  \n",
      "5      positive  \n",
      "6      negative  \n",
      "7      negative  \n",
      "8      negative  \n",
      "9      positive  \n",
      "10     positive  \n",
      "11     positive  \n",
      "12     positive  \n",
      "13     negative  \n",
      "14     positive  \n",
      "15     positive  \n",
      "16     positive  \n",
      "17     positive  \n",
      "18     positive  \n",
      "19     positive  \n",
      "20     positive  \n",
      "21     positive  \n",
      "22     negative  \n",
      "23     positive  \n",
      "24     positive  \n",
      "25     positive  \n",
      "26     positive  \n",
      "27     negative  \n",
      "28     positive  \n",
      "29     positive  \n",
      "...         ...  \n",
      "11529  positive  \n",
      "11530  positive  \n",
      "11531  positive  \n",
      "11532  positive  \n",
      "11533  positive  \n",
      "11534  positive  \n",
      "11535  positive  \n",
      "11536  positive  \n",
      "11537  positive  \n",
      "11538  positive  \n",
      "11539  positive  \n",
      "11540  positive  \n",
      "11541  positive  \n",
      "11542  positive  \n",
      "11543  negative  \n",
      "11544  positive  \n",
      "11545  negative  \n",
      "11546  positive  \n",
      "11547  negative  \n",
      "11548  negative  \n",
      "11549  positive  \n",
      "11550  positive  \n",
      "11551  positive  \n",
      "11552  positive  \n",
      "11553  negative  \n",
      "11554  negative  \n",
      "11555  positive  \n",
      "11556  positive  \n",
      "11557  positive  \n",
      "11558  negative  \n",
      "\n",
      "[11559 rows x 4 columns]\n",
      "positive    8693\n",
      "negative    2866\n",
      "Name: bi_senti, dtype: int64\n"
     ]
    }
   ],
   "source": [
    "dataframe = dataframe.assign(nWords = lambda x : x['review_text'].str.split().str.len() )\n",
    "dataframe['bi_senti'] = [ \"positive\" if x >= 4 else \"negative\" for x in dataframe['sentiment']]\n",
    "print(dataframe)\n",
    "print(dataframe['bi_senti'].value_counts())"
   ]
  },
  {
   "cell_type": "markdown",
   "metadata": {},
   "source": [
    "#### Step 3: Split into train and test samples"
   ]
  },
  {
   "cell_type": "code",
   "execution_count": 66,
   "metadata": {},
   "outputs": [
    {
     "name": "stdout",
     "output_type": "stream",
     "text": [
      "size of trainig data  9247\n"
     ]
    }
   ],
   "source": [
    "from sklearn.utils import shuffle #To shuffle the dataframe\n",
    "from sklearn.model_selection import train_test_split\n",
    "\n",
    "dataframe = shuffle(dataframe)\n",
    "df_train, df_test = train_test_split(dataframe, test_size=0.2)\n",
    "print(\"size of trainig data \", len(df_train))"
   ]
  },
  {
   "cell_type": "markdown",
   "metadata": {},
   "source": [
    "#### Step 4: Tokenization of sentence and feature extraction\n",
    "Text data requires special preparation before you can start using it for predictive modeling.\n",
    "\n",
    "The text must be parsed to remove words, called tokenization. Then the words need to be encoded as integers or floating point values for use as input to a machine learning algorithm, called feature extraction (or vectorization).\n",
    "##### Convert sentences to TF-IDF vectors \n",
    "tf-idf ( term frequency–inverse document frequency), is a numerical statistic that is intended to reflect how important a word is to a document in a collection or corpus. It is often used as a weighting factor in searches of information retrieval, text mining, and user modeling. The tf–idf value increases proportionally to the number of times a word appears in the document and is offset by the number of documents in the corpus that contain the word, which helps to adjust for the fact that some words appear more frequently in general."
   ]
  },
  {
   "cell_type": "code",
   "execution_count": 67,
   "metadata": {},
   "outputs": [
    {
     "name": "stdout",
     "output_type": "stream",
     "text": [
      "  (0, 18586)\t0.0916710092342351\n",
      "  (0, 18511)\t0.11149597929281477\n",
      "  (0, 18277)\t0.18676973302304148\n",
      "  (0, 17372)\t0.24454292948436535\n",
      "  (0, 17361)\t0.1149300612958263\n",
      "  (0, 17273)\t0.16632313358455292\n",
      "  (0, 16778)\t0.20350381105507792\n",
      "  (0, 15163)\t0.21601556317008766\n",
      "  (0, 14526)\t0.2278088514523289\n",
      "  (0, 14524)\t0.15534846648546435\n",
      "  (0, 14276)\t0.23796918118284127\n",
      "  (0, 13634)\t0.2289194284961458\n",
      "  (0, 13333)\t0.05993400948598399\n",
      "  (0, 12800)\t0.1802811834309952\n",
      "  (0, 10782)\t0.14166975956345212\n",
      "  (0, 10613)\t0.23126034450296204\n",
      "  (0, 10603)\t0.13480380562637528\n",
      "  (0, 9693)\t0.27548243902597286\n",
      "  (0, 9688)\t0.17465156057058517\n",
      "  (0, 8967)\t0.1530405486031496\n",
      "  (0, 8145)\t0.1738006325901372\n",
      "  (0, 7641)\t0.09570965669639206\n",
      "  (0, 7197)\t0.1588797619758763\n",
      "  (0, 6617)\t0.19992504756369334\n",
      "  (0, 6257)\t0.1925557231747529\n",
      "  :\t:\n",
      "  (9246, 2378)\t0.10775848858201226\n",
      "  (9246, 2213)\t0.09142233523808797\n",
      "  (9246, 2209)\t0.11311419713615518\n",
      "  (9246, 2189)\t0.10931426144380321\n",
      "  (9246, 2169)\t0.12291460827618025\n",
      "  (9246, 1977)\t0.08248147300115767\n",
      "  (9246, 1910)\t0.11107805124328204\n",
      "  (9246, 1907)\t0.07906602024507478\n",
      "  (9246, 1460)\t0.045926737985324755\n",
      "  (9246, 1310)\t0.07481410631092694\n",
      "  (9246, 1257)\t0.05787432254545866\n",
      "  (9246, 1174)\t0.059983491985217775\n",
      "  (9246, 1108)\t0.10510786898796877\n",
      "  (9246, 1107)\t0.07376616294771993\n",
      "  (9246, 1006)\t0.2221561024865641\n",
      "  (9246, 1005)\t0.16411069128401262\n",
      "  (9246, 1002)\t0.1010110937799197\n",
      "  (9246, 1001)\t0.1010110937799197\n",
      "  (9246, 996)\t0.07556197410239764\n",
      "  (9246, 840)\t0.06184338734171154\n",
      "  (9246, 226)\t0.10192240699678713\n",
      "  (9246, 225)\t0.06925795684600328\n",
      "  (9246, 193)\t0.10192240699678713\n",
      "  (9246, 172)\t0.09230324843566651\n",
      "  (9246, 144)\t0.08510805473133223\n"
     ]
    }
   ],
   "source": [
    "from sklearn.feature_extraction.text import TfidfVectorizer\n",
    "def vectorize(corpus, train_sentence, test_sentence):\n",
    "    word_vectorizer = TfidfVectorizer(\n",
    "                                        strip_accents='unicode',\n",
    "                                        analyzer='word',\n",
    "                                        stop_words='english',\n",
    "                                        ngram_range=(1, 3),\n",
    "                                        max_features=20000)\n",
    "\n",
    "    word_vectorizer.fit(corpus)\n",
    "    train_x = word_vectorizer.transform(train_sentence)\n",
    "    test_x = word_vectorizer.transform(test_sentence)\n",
    "    print(train_x)\n",
    "    return train_x, test_x\n",
    "\n",
    "train_x, test_x = vectorize(dataframe['review_text'],df_train['review_text'],df_test['review_text'])"
   ]
  },
  {
   "cell_type": "markdown",
   "metadata": {},
   "source": [
    "#### Step 5:Generate the classifier"
   ]
  },
  {
   "cell_type": "code",
   "execution_count": 68,
   "metadata": {},
   "outputs": [
    {
     "name": "stdout",
     "output_type": "stream",
     "text": [
      "accuracy of rfc is =  0.8784602076124568\n"
     ]
    },
    {
     "data": {
      "text/plain": [
       "array([[0. , 1. ],\n",
       "       [0.2, 0.8],\n",
       "       [0.1, 0.9],\n",
       "       [0.1, 0.9],\n",
       "       [0. , 1. ],\n",
       "       [0.8, 0.2],\n",
       "       [0.1, 0.9],\n",
       "       [0.1, 0.9],\n",
       "       [0.1, 0.9],\n",
       "       [0.3, 0.7]])"
      ]
     },
     "execution_count": 68,
     "metadata": {},
     "output_type": "execute_result"
    }
   ],
   "source": [
    "from sklearn.ensemble import RandomForestClassifier\n",
    "\n",
    "rfc = RandomForestClassifier(n_estimators=10)\n",
    "r = rfc.fit(train_x, df_train['bi_senti'])\n",
    "acc = r.score(test_x,df_test['bi_senti'])\n",
    "print(\"accuracy of rfc is = \", acc)\n",
    "rfc.predict_proba(test_x)[0:10]\n"
   ]
  },
  {
   "cell_type": "markdown",
   "metadata": {},
   "source": [
    "#### Step 6: Use the model to predict the sentiment of your sentence"
   ]
  },
  {
   "cell_type": "code",
   "execution_count": 71,
   "metadata": {},
   "outputs": [
    {
     "name": "stdout",
     "output_type": "stream",
     "text": [
      "\n",
      "[[0. 1.]]\n"
     ]
    }
   ],
   "source": [
    "s1 = pd.Series('my name is poonacha')\n",
    "s2 = pd.Series(\"his movie was absolutely horrible. A boring, random, nonsensical mess from start to finish. The film is incompetently directed from a very poor script. It feels more like a superhero movie from the early 2000's such as Catwoman or Daredevil. Watching it makes it clear that the people involved had no idea what they were doing, and should never have been put in charge of a project this size to begin with. The story makes no sense, and the whole reason Batman wants to kill Superman is contrived. Batman and Superman hate each other because they both cause collateral damage and human death, and neither one ever sees fit to point out their similarities, or try and talk to each other about their different perspectives. Apparently that would have been too interesting, so of course Snyder didn't include it.\")\n",
    "x1, x2 = vectorize(dataframe['review_text'],s1,s2)\n",
    "print(rfc.predict_proba(x1))\n"
   ]
  },
  {
   "cell_type": "code",
   "execution_count": null,
   "metadata": {},
   "outputs": [],
   "source": []
  }
 ],
 "metadata": {
  "kernelspec": {
   "display_name": "Python 3",
   "language": "python",
   "name": "python3"
  },
  "language_info": {
   "codemirror_mode": {
    "name": "ipython",
    "version": 3
   },
   "file_extension": ".py",
   "mimetype": "text/x-python",
   "name": "python",
   "nbconvert_exporter": "python",
   "pygments_lexer": "ipython3",
   "version": "3.6.4"
  }
 },
 "nbformat": 4,
 "nbformat_minor": 2
}
