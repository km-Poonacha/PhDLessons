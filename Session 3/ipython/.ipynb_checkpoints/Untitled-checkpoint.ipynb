{
 "cells": [
  {
   "cell_type": "code",
   "execution_count": null,
   "metadata": {},
   "outputs": [],
   "source": [
    "#iterator error\n",
    "# type conversion error"
   ]
  },
  {
   "cell_type": "markdown",
   "metadata": {},
   "source": [
    "\\begin{equation*}\n",
    "\\left( \\sum_{k=1}^n a_k b_k \\right)^2 \\leq \\left( \\sum_{k=1}^n a_k^2 \\right) \\left( \\sum_{k=1}^n b_k^2 \\right)\n",
    "P \\left( f_1... f_n/ label\\right) = \\prod_i P \\left( f_i/ label\\right)\n",
    "\\end{equation*}"
   ]
  },
  {
   "cell_type": "code",
   "execution_count": null,
   "metadata": {},
   "outputs": [],
   "source": [
    "import csv\n",
    "import nltk\n",
    "import random\n",
    "\n",
    "def feature_extractor(word):\n",
    "    start_letter = word[0]\n",
    "    last_letter = word[-2:]\n",
    "    no_letters = len(word)\n",
    "    percentage_vowels = 0\n",
    "    no_vowels = 0\n",
    "    for letter in word:\n",
    "        if letter in ['a','e','i','o','u']:\n",
    "            no_vowels = no_vowels + 1\n",
    "    if no_vowels:\n",
    "        percentage_vowels = no_vowels/len(word)\n",
    "    return {'start_letter' : start_letter,'last_letter' : last_letter, 'no_letters' : no_letters,'percentage_vowels': percentage_vowels}\n",
    "\n",
    "def ML_train(LABEL_CSV):\n",
    "    feature_list = []\n",
    "    train_list =[]\n",
    "    test_list = []\n",
    "    #feature_row = []\n",
    "    with open (LABEL_CSV,'rt',encoding='utf-8') as labelobj:\n",
    "        label_list=csv.reader(labelobj)\n",
    "        for label_data in label_list:\n",
    "            word_features = feature_extractor(label_data[0])\n",
    "            if int(label_data[1]) >= 0:\n",
    "                feature_row = [word_features,'positive']\n",
    "            else:\n",
    "                feature_row = [word_features,'negative']\n",
    "            feature_list.append(feature_row)\n",
    "    random.shuffle(feature_list)    \n",
    "    train_list = feature_list[:1500]\n",
    "    test_list = feature_list[:-1500]\n",
    "    classifier = nltk.NaiveBayesClassifier.train(train_list)\n",
    "    print('Test accuracy of the classifier = ',nltk.classify.accuracy(classifier, test_list))\n",
    "    print(classifier.show_most_informative_features())\n",
    "    return classifier\n",
    "    \n",
    "    \n",
    "def main():\n",
    "    sentiment_csv = \"C:/Users/kmpoo/Dropbox/HEC/Teaching/Python for PhD Mar 2018/python4phd/Session 3/Sent/word_sentiment.csv\"\n",
    "    print(feature_extractor('poonacha'))\n",
    "    classifier = ML_train(sentiment_csv)\n",
    "    # why not pass the word directly to ML_train ?\n",
    "    print(classifier.classify(feature_extractor('trump')))\n",
    "    # Can you tell me why it changes when we run this again ? \n",
    "    \n",
    "          \n",
    "main()"
   ]
  }
 ],
 "metadata": {
  "kernelspec": {
   "display_name": "Python 3",
   "language": "python",
   "name": "python3"
  },
  "language_info": {
   "codemirror_mode": {
    "name": "ipython",
    "version": 3
   },
   "file_extension": ".py",
   "mimetype": "text/x-python",
   "name": "python",
   "nbconvert_exporter": "python",
   "pygments_lexer": "ipython3",
   "version": "3.6.4"
  }
 },
 "nbformat": 4,
 "nbformat_minor": 2
}
